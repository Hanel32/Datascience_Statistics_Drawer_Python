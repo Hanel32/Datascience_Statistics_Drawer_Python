{
 "cells": [
  {
   "cell_type": "markdown",
   "metadata": {},
   "source": [
    "- @Author: Carson Hanel\n",
    "- Class  : STAT 489 Principles of Data Science and Statistics\n",
    "- Prof.  : Alan Dabney, Ph.D.\n",
    "- Label  : Confidence interval testing, creation of random experiments.\n",
    "\n",
    "Random Experiment Generation:\n",
    "----\n",
    "First, import all necessary packages:"
   ]
  },
  {
   "cell_type": "code",
   "execution_count": 1,
   "metadata": {
    "collapsed": true
   },
   "outputs": [],
   "source": [
    "import numpy as np\n",
    "import random"
   ]
  },
  {
   "cell_type": "markdown",
   "metadata": {},
   "source": [
    "Below is a simulation of operating characteristics of confidence intervals.\n",
    "\n",
    "To begin:\n",
    "---\n",
    "- Statement     : \"I'm 95% confident that $\\mu$ is between a and b.\"\n",
    "- Interpretation: \"95% of all 95% CI's will contain $\\mu$\"\n",
    " \n",
    "Simulation:\n",
    "---\n",
    "- $n$: sample size\n",
    "- $\\mu$: population mean\n",
    "- $\\sigma$: population standard deviation\n",
    "- $N$: number of simulations\n",
    "\n",
    "Explanation: \n",
    "---\n",
    "For each of $N$ times:\n",
    "- Simulate a dataset of size n with parameters $\\mu$ and $\\sigma$.\n",
    "- Compute sample statistics and use them to perform a 95% confidence interval\n",
    "- Check and store whether $\\mu$ $\\in$ Confidence Interval"
   ]
  },
  {
   "cell_type": "code",
   "execution_count": 2,
   "metadata": {},
   "outputs": [
    {
     "name": "stdout",
     "output_type": "stream",
     "text": [
      "(100L, 1000L)\n"
     ]
    },
    {
     "data": {
      "text/plain": [
       "array([[-1.06490253,  1.7048808 , -0.61522383],\n",
       "       [ 0.05755169,  0.16063181,  0.45558841]])"
      ]
     },
     "execution_count": 2,
     "metadata": {},
     "output_type": "execute_result"
    }
   ],
   "source": [
    "# Number of experiments and pieces of data\n",
    "N = 1000\n",
    "n = 100\n",
    "\n",
    "# Generate simulated data:\n",
    "sim = np.random.standard_normal((n, N))\n",
    "print(sim.shape)\n",
    "\n",
    "# Printing the upper-leftmost data in the generated random set.\n",
    "sim[:2, :3]"
   ]
  },
  {
   "cell_type": "markdown",
   "metadata": {},
   "source": [
    "Computing Confidence Intervals:\n",
    "----\n",
    "For a given simulated dataset:\n",
    "\n",
    "- $\\bar{y}$ = $\\frac{1}{n}$$\\sum_{i = 1}^{n}$$y_i$\n",
    "- $\\sigma^2$= $\\frac{1}{n}$$\\sum_{i = 1}^{n}$($y_i$ - $\\bar{y}$)\n",
    "\n",
    "\n",
    "Now, we'll compute the 95% confidence intervals for our generated data:"
   ]
  },
  {
   "cell_type": "code",
   "execution_count": 4,
   "metadata": {},
   "outputs": [
    {
     "name": "stdout",
     "output_type": "stream",
     "text": [
      "(1000L, 2L)\n",
      "[[-0.14656928  0.26078124]\n",
      " [-0.29011492  0.12910485]\n",
      " [-0.25896131  0.12693091]\n",
      " [-0.26386062  0.15472119]\n",
      " [-0.03330084  0.36579819]]\n"
     ]
    }
   ],
   "source": [
    "sim_ci = np.zeros((N, 2))\n",
    "for i in range(N):\n",
    "    sim_i   = sim[:, i]\n",
    "    x_bar_i = np.mean(sim_i)\n",
    "    s_i     = np.std(sim_i)\n",
    "    sim_ci [i, 0] = x_bar_i - 1.96 * s_i / np.sqrt(n)\n",
    "    sim_ci [i, 1] = x_bar_i + 1.96 * s_i / np.sqrt(n)\n",
    "    \n",
    "print(sim_ci.shape)\n",
    "print(sim_ci[:5, :])"
   ]
  },
  {
   "cell_type": "markdown",
   "metadata": {},
   "source": [
    "Compute the proportion of 95% confidence intervals that contained $\\mu$"
   ]
  },
  {
   "cell_type": "code",
   "execution_count": 5,
   "metadata": {},
   "outputs": [
    {
     "name": "stdout",
     "output_type": "stream",
     "text": [
      "0.949\n"
     ]
    }
   ],
   "source": [
    "cvrg = np.zeros(N)\n",
    "for i in range(N):\n",
    "    if(sim_ci[i,0] <= 0 and sim_ci[i,1] >= 0):\n",
    "        cvrg[i] = 1\n",
    "print(np.mean(cvrg))"
   ]
  },
  {
   "cell_type": "code",
   "execution_count": null,
   "metadata": {
    "collapsed": true
   },
   "outputs": [],
   "source": []
  }
 ],
 "metadata": {
  "kernelspec": {
   "display_name": "Python 2",
   "language": "python",
   "name": "python2"
  },
  "language_info": {
   "codemirror_mode": {
    "name": "ipython",
    "version": 2
   },
   "file_extension": ".py",
   "mimetype": "text/x-python",
   "name": "python",
   "nbconvert_exporter": "python",
   "pygments_lexer": "ipython2",
   "version": "2.7.13"
  }
 },
 "nbformat": 4,
 "nbformat_minor": 2
}
