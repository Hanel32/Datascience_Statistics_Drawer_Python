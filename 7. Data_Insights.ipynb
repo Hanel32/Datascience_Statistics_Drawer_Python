{
 "cells": [
  {
   "cell_type": "markdown",
   "metadata": {},
   "source": [
    "Exploring your Data\n",
    "----\n",
    "Essentially, the previous chapters have really covered on the basics of experiments, but we've really not looked much into what to first do to your data when you initally gather it and want to test what it contains.\n",
    "\n",
    "Exploring One-Dimensional Data\n",
    "----\n",
    "Sometimes your data is simply a singular dimension or variable, and needs to be analyzed with less scrutany than simply plotting. One method to analyze the a rough outline of the data is to bucketize the variable into discrete ranges of values, such that the ranges could be analyzed and compared."
   ]
  },
  {
   "cell_type": "code",
   "execution_count": 18,
   "metadata": {},
   "outputs": [],
   "source": [
    "# Imports and necessary definitions from previous chapters\n",
    "import random                   # random.random()\n",
    "import math                     # math.erf\n",
    "from collections import Counter # Counter\n",
    "import matplotlib.pyplot as plt # Plotting\n",
    "import numpy as np\n",
    "\n",
    "# Definitions\n",
    "def normal_cdf(x, mu=0, sigma=1):\n",
    "    return (1 + math.erf((x - mu) / math.sqrt(2) / sigma)) / 2\n",
    "\n",
    "def inverse_normal_cdf(p, mu=0, sigma=1, tolerance=0.00001):\n",
    "    if mu != 0 or sigma != 1:\n",
    "        return mu + sigma * inverse_normal_cdf(p, tolerance=tolerance)\n",
    "            \n",
    "    low_z, low_p = -10.0, 0\n",
    "    hi_z,  hi_p  =  10.0, 1\n",
    "    while hi_z - low_z > tolerance:\n",
    "        mid_z = (low_z + hi_z) / 2\n",
    "        mid_p = normal_cdf(mid_z)\n",
    "        if mid_p < p:\n",
    "            low_z, low_p = mid_z, mid_p\n",
    "        elif mid_p > p:\n",
    "            hi_z, hi_p = mid_z, mid_p\n",
    "        else:\n",
    "            break\n",
    "                        \n",
    "    return mid_z"
   ]
  },
  {
   "cell_type": "code",
   "execution_count": 1,
   "metadata": {
    "collapsed": true
   },
   "outputs": [],
   "source": [
    "def bucketize(point, bucket_size):\n",
    "    \"\"\"floor the point to the next lower multiple of bucket_size\"\"\"\n",
    "    return bucket_size*math.floor(point / bucket_size)\n",
    "\n",
    "def make_histogram(points, bucket_size):\n",
    "    \"\"\"buckets the points and counts how many in each bucket\"\"\"\n",
    "    return Counter(bucketize(point, bucket_size) for point in points)\n",
    "\n",
    "def plot_histogram(points, bucket_size, title=\"\"):\n",
    "    histogram = make_histogram(points, bucket_size)\n",
    "    plt.bar(histogram.keys(), histogram.values(), width=bucket_size)\n",
    "    plt.title(title)\n",
    "    plt.show()"
   ]
  },
  {
   "cell_type": "markdown",
   "metadata": {},
   "source": [
    "For example, consider these data:\n",
    "---"
   ]
  },
  {
   "cell_type": "code",
   "execution_count": 13,
   "metadata": {},
   "outputs": [
    {
     "data": {
      "image/png": "[encoded data removed]",
      "text/plain": [
       "<matplotlib.figure.Figure at 0x8340a90>"
      ]
     },
     "metadata": {},
     "output_type": "display_data"
    },
    {
     "data": {
      "image/png": "[encoded data removed]",
      "text/plain": [
       "<matplotlib.figure.Figure at 0x8084400>"
      ]
     },
     "metadata": {},
     "output_type": "display_data"
    }
   ],
   "source": [
    "# Seed the random function to allow reproducible results\n",
    "random.seed(0)\n",
    "\n",
    "# Uniform between -100 and 100\n",
    "uniform = [200 * random.random() - 100 for _ in range(10000)]\n",
    "\n",
    "# Normal distribution with mean 0, std dev 57\n",
    "normal  = [57 * inverse_normal_cdf(random.random()) for _ in range(10000)]\n",
    "\n",
    "# Plot Uniform\n",
    "plot_histogram(uniform, 10, \"Uniform Histogram\")\n",
    "\n",
    "# Plot Normal\n",
    "plot_histogram(normal, 10, \"Normal Histogram\")"
   ]
  },
  {
   "cell_type": "markdown",
   "metadata": {},
   "source": [
    "Continuing to explore Two Dimensional Data\n",
    "---"
   ]
  },
  {
   "cell_type": "code",
   "execution_count": 26,
   "metadata": {},
   "outputs": [
    {
     "data": {
      "image/png": "[encoded data removed]",
      "text/plain": [
       "<matplotlib.figure.Figure at 0xbbd9470>"
      ]
     },
     "metadata": {},
     "output_type": "display_data"
    },
    {
     "data": {
      "image/png": "[encoded data removed]",
      "text/plain": [
       "<matplotlib.figure.Figure at 0xbbad550>"
      ]
     },
     "metadata": {},
     "output_type": "display_data"
    },
    {
     "name": "stdout",
     "output_type": "stream",
     "text": [
      "ys1 mean: -0.00143072986603\n",
      "ys2 mean: -0.00866318511963\n",
      "ys1 s.d.: 1.1260013114\n",
      "ys2 s.d.: 1.12547961175\n"
     ]
    }
   ],
   "source": [
    "def random_normal():\n",
    "    \"\"\"returns a random draw from a standard normal distribution\"\"\"\n",
    "    return inverse_normal_cdf(random.random())\n",
    "\n",
    "# Create two dummy datasets of random normal variables\n",
    "# Notice, ys1 and ys2 have similar outputs, though -x and x\n",
    "xs  = [random_normal() for _ in range(10000)]\n",
    "ys1 = [-x + random_normal() / 2 for x in xs]\n",
    "ys2 = [x + random_normal() / 2 for x in xs]\n",
    "\n",
    "# Notice the near exact similarity\n",
    "plot_histogram(ys1, 10, \"-x generated histogram\")\n",
    "plot_histogram(ys2, 10, \"+x generated histogram\")\n",
    "print(\"ys1 mean: \" + str(np.mean(ys1)))\n",
    "print(\"ys2 mean: \" + str(np.mean(ys2)))\n",
    "print(\"ys1 s.d.: \" + str(np.std(ys1)))\n",
    "print(\"ys2 s.d.: \" + str(np.std(ys2)))"
   ]
  },
  {
   "cell_type": "code",
   "execution_count": null,
   "metadata": {
    "collapsed": true
   },
   "outputs": [],
   "source": []
  }
 ],
 "metadata": {
  "kernelspec": {
   "display_name": "Python 2",
   "language": "python",
   "name": "python2"
  },
  "language_info": {
   "codemirror_mode": {
    "name": "ipython",
    "version": 2
   },
   "file_extension": ".py",
   "mimetype": "text/x-python",
   "name": "python",
   "nbconvert_exporter": "python",
   "pygments_lexer": "ipython2",
   "version": "2.7.13"
  }
 },
 "nbformat": 4,
 "nbformat_minor": 2
}
