{
 "cells": [
  {
   "cell_type": "markdown",
   "metadata": {},
   "source": [
    "MNIST classifier exercise from Hands on Machine Learning in Tensorflow and Scikit-Learn\n",
    "----\n",
    "\n",
    "First, we'll download the MNIST dataset."
   ]
  },
  {
   "cell_type": "code",
   "execution_count": 1,
   "metadata": {},
   "outputs": [
    {
     "data": {
      "text/plain": [
       "{'COL_NAMES': ['label', 'data'],\n",
       " 'DESCR': 'mldata.org dataset: mnist-original',\n",
       " 'data': array([[0, 0, 0, ..., 0, 0, 0],\n",
       "        [0, 0, 0, ..., 0, 0, 0],\n",
       "        [0, 0, 0, ..., 0, 0, 0],\n",
       "        ..., \n",
       "        [0, 0, 0, ..., 0, 0, 0],\n",
       "        [0, 0, 0, ..., 0, 0, 0],\n",
       "        [0, 0, 0, ..., 0, 0, 0]], dtype=uint8),\n",
       " 'target': array([ 0.,  0.,  0., ...,  9.,  9.,  9.])}"
      ]
     },
     "execution_count": 1,
     "metadata": {},
     "output_type": "execute_result"
    }
   ],
   "source": [
    "from sklearn.datasets import fetch_mldata\n",
    "mnist = fetch_mldata('MNIST original')\n",
    "mnist # Get a peek at the data"
   ]
  },
  {
   "cell_type": "markdown",
   "metadata": {},
   "source": [
    "To explain:\n",
    "----\n",
    "DESCR is a description of the dataset\n",
    "\n",
    "data is the feature array\n",
    "\n",
    "target is the array of labels."
   ]
  },
  {
   "cell_type": "code",
   "execution_count": 4,
   "metadata": {},
   "outputs": [
    {
     "name": "stdout",
     "output_type": "stream",
     "text": [
      "X: (70000L, 784L)\n",
      "Y: (70000L,)\n"
     ]
    }
   ],
   "source": [
    "# Assign the data and target values to variables.\n",
    "X, y = mnist[\"data\"], mnist[\"target\"]\n",
    "\n",
    "# Dimensions of the members\n",
    "print(\"X: \" + str(X.shape)) # Each image is 28x28 = 784 features.\n",
    "print(\"Y: \" + str(y.shape)) # Each image has a single target value"
   ]
  },
  {
   "cell_type": "markdown",
   "metadata": {},
   "source": [
    "Now, let's reconstruct a member of the set and get a feel for the data.\n",
    "----"
   ]
  },
  {
   "cell_type": "code",
   "execution_count": 41,
   "metadata": {},
   "outputs": [
    {
     "name": "stdout",
     "output_type": "stream",
     "text": [
      "The target identity is:5.0\n"
     ]
    },
    {
     "data": {
      "image/png": "[encoded data removed]",
      "text/plain": [
       "<matplotlib.figure.Figure at 0x137d82e8>"
      ]
     },
     "metadata": {},
     "output_type": "display_data"
    }
   ],
   "source": [
    "%matplotlib inline\n",
    "import matplotlib\n",
    "import matplotlib.pyplot as plt\n",
    "\n",
    "# Extract the 36 thousandth image of the dataset, and return its dimensions.\n",
    "some_digit = X[36000] \n",
    "some_digit_image = some_digit.reshape(28, 28)\n",
    "\n",
    "# Plot the image, and output the target identity\n",
    "print(\"The target identity is:\" + str(y[36000]))\n",
    "plt.imshow(some_digit_image, cmap = matplotlib.cm.binary, interpolation=\"nearest\")\n",
    "plt.axis(\"off\")\n",
    "plt.show()"
   ]
  },
  {
   "cell_type": "markdown",
   "metadata": {},
   "source": [
    "Before continuing with the data:\n",
    "----\n",
    "Split into training and testing sets, and randomly shuffle them."
   ]
  },
  {
   "cell_type": "code",
   "execution_count": 42,
   "metadata": {},
   "outputs": [],
   "source": [
    "import numpy as np\n",
    "\n",
    "# Split the sets\n",
    "X_train, X_test, y_train, y_test = X[:60000], X[60000:], y[:60000], y[60000:]\n",
    "\n",
    "# Shuffle\n",
    "shuffle_index = np.random.permutation(60000)\n",
    "X_train, y_train = X_train[shuffle_index], y_train[shuffle_index]"
   ]
  },
  {
   "cell_type": "markdown",
   "metadata": {},
   "source": [
    "Now, first, we'll train a binary classifier to recognize the 1 that we extracted in the dataset.\n",
    "----"
   ]
  },
  {
   "cell_type": "code",
   "execution_count": 54,
   "metadata": {},
   "outputs": [
    {
     "name": "stdout",
     "output_type": "stream",
     "text": [
      "Classifying the 5: [ True]\n",
      "Classifying the 1: [False]\n"
     ]
    }
   ],
   "source": [
    "from sklearn.linear_model import SGDClassifier\n",
    "\n",
    "# Extract the 5's\n",
    "y_train_5 = (y_train ==5)\n",
    "y_test_5  = (y_test  ==5)\n",
    "\n",
    "# Fit a Stochastic Gradient Descent model to the dataset to identify 5's\n",
    "sgd_clf   = SGDClassifier(random_state=42)\n",
    "sgd_clf.fit(X_train, y_train_5)\n",
    "\n",
    "# See the classification of the 1:\n",
    "print(\"Classifying the 5: \" + str(sgd_clf.predict([some_digit])))\n",
    "\n",
    "# Check how it classifies a 1\n",
    "five = X[12345]\n",
    "print(\"Classifying the 1: \" + str(sgd_clf.predict([five])))"
   ]
  },
  {
   "cell_type": "markdown",
   "metadata": {},
   "source": [
    "Performance Measures\n",
    "----\n",
    "First, let's check out $\\textbf{Stratified K-Fold}$"
   ]
  },
  {
   "cell_type": "code",
   "execution_count": 55,
   "metadata": {},
   "outputs": [
    {
     "name": "stdout",
     "output_type": "stream",
     "text": [
      "0.9472\n",
      "0.9553\n",
      "0.96625\n"
     ]
    }
   ],
   "source": [
    "from sklearn.model_selection import StratifiedKFold\n",
    "from sklearn.base import clone\n",
    "\n",
    "skfolds = StratifiedKFold(n_splits=3, random_state=42)\n",
    "\n",
    "# Use the stratified k-fold to make 3 test/train splits.\n",
    "for train_index, test_index in skfolds.split(X_train, y_train_5):\n",
    "    clone_clf     = clone(sgd_clf)            # The learning function\n",
    "    X_train_folds = X_train[train_index]      # The training data for X\n",
    "    y_train_folds = (y_train_5[train_index])  # The training data for y\n",
    "    X_test_fold   = X_train[test_index]       # The testing data for X\n",
    "    y_test_fold   = (y_train_5[test_index])   # The testing data for y\n",
    "    \n",
    "    clone_clf.fit(X_train_folds, y_train_folds)     # Fit to this fold's training data\n",
    "    y_pred = clone_clf.predict(X_test_fold)         # Classify the testing data\n",
    "    n_correct = sum(y_pred == y_test_fold)          # Sum up the classifications that were equal to actual\n",
    "    print(float(n_correct) / float(len(y_pred)))    # After all of the work on this fold, output the percent correct"
   ]
  },
  {
   "cell_type": "markdown",
   "metadata": {},
   "source": [
    "Now, let's check out the $\\textbf{cross_val_score()}$ to evaluate our model using $\\textbf{K-Fold Cross Validation}$."
   ]
  },
  {
   "cell_type": "code",
   "execution_count": 56,
   "metadata": {},
   "outputs": [
    {
     "data": {
      "text/plain": [
       "array([ 0.9472 ,  0.9553 ,  0.96625])"
      ]
     },
     "execution_count": 56,
     "metadata": {},
     "output_type": "execute_result"
    }
   ],
   "source": [
    "from sklearn.model_selection import cross_val_score\n",
    "\n",
    "# Get the cross validation score\n",
    "cross_val_score(sgd_clf, X_train, y_train_5, cv=3, scoring=\"accuracy\")"
   ]
  },
  {
   "cell_type": "markdown",
   "metadata": {},
   "source": [
    "Now, it's known that $\\textbf{accuracy}$ isn't always the fairest assessment of a model.\n",
    "\n",
    "Check out this toy example, naively scoring everything as not-5."
   ]
  },
  {
   "cell_type": "code",
   "execution_count": 57,
   "metadata": {},
   "outputs": [
    {
     "data": {
      "text/plain": [
       "array([ 0.90915,  0.9081 ,  0.9117 ])"
      ]
     },
     "execution_count": 57,
     "metadata": {},
     "output_type": "execute_result"
    }
   ],
   "source": [
    "from sklearn.base import BaseEstimator\n",
    "\n",
    "class Never5Classifier(BaseEstimator):\n",
    "    def fit(self, X, y=None):\n",
    "        pass\n",
    "    def predict(self, X):\n",
    "        return np.zeros((len(X), 1), dtype=bool)\n",
    "        \n",
    "never_5_clf = Never5Classifier()\n",
    "cross_val_score(never_5_clf, X_train, y_train_5, cv=3, scoring=\"accuracy\")"
   ]
  },
  {
   "cell_type": "markdown",
   "metadata": {},
   "source": [
    "It's important to note that the $\\textbf{accuracy}$ for the model is still above 87% for a totally naive classifier.\n",
    "\n",
    "A much better way to evaluate performance is the $\\textbf{confusion matrix}$."
   ]
  },
  {
   "cell_type": "code",
   "execution_count": 58,
   "metadata": {},
   "outputs": [
    {
     "data": {
      "text/plain": [
       "array([[53865,   714],\n",
       "       [ 1911,  3510]])"
      ]
     },
     "execution_count": 58,
     "metadata": {},
     "output_type": "execute_result"
    }
   ],
   "source": [
    "from sklearn.model_selection import cross_val_predict\n",
    "from sklearn.metrics import confusion_matrix\n",
    "\n",
    "# Obtain a clean prediction for the data\n",
    "y_train_pred = cross_val_predict(sgd_clf, X_train, y_train_5, cv=3)\n",
    "\n",
    "# Create the confusion matrix\n",
    "confusion_matrix(y_train_5, y_train_pred)"
   ]
  },
  {
   "cell_type": "markdown",
   "metadata": {},
   "source": [
    "From the $\\textbf{confusion matrix}$, we can derive greater metrics for goodness of fit:\n",
    "\n",
    "$\\textbf{Precision:}$ $\\frac{TP}{TP + FP}$ which is a measure of how often the data classified is correct to the target.\n",
    "\n",
    "$\\textbf{Recall:}$ $\\frac{TP}{TP + FN}$ which is a measure of how much relevant information is retrieved by the algorithm."
   ]
  },
  {
   "cell_type": "code",
   "execution_count": 59,
   "metadata": {},
   "outputs": [
    {
     "name": "stdout",
     "output_type": "stream",
     "text": [
      "Precision 0.830965909091\n",
      "Recall 0.647482014388\n"
     ]
    }
   ],
   "source": [
    "from sklearn.metrics import precision_score, recall_score\n",
    "\n",
    "print(\"Precision \" + str(precision_score(y_train_5, y_train_pred)))\n",
    "print(\"Recall \" + str(recall_score(y_train_5, y_train_pred)))"
   ]
  },
  {
   "cell_type": "markdown",
   "metadata": {},
   "source": [
    "This leads us to the $\\textbf{$F_{1}$ score}$ = $\\frac{2}{\\frac{1}{precision} + \\frac{1}{recall}}$\n",
    "\n",
    "Which is a balance between precision and recall."
   ]
  },
  {
   "cell_type": "code",
   "execution_count": 61,
   "metadata": {},
   "outputs": [
    {
     "name": "stdout",
     "output_type": "stream",
     "text": [
      "F1 score classifying 5's: 0.727838258165\n"
     ]
    }
   ],
   "source": [
    "from sklearn.metrics import f1_score\n",
    "\n",
    "print(\"F1 score classifying 5's: \" + str(f1_score(y_train_5, y_train_pred)))"
   ]
  },
  {
   "cell_type": "code",
   "execution_count": null,
   "metadata": {},
   "outputs": [],
   "source": []
  }
 ],
 "metadata": {
  "kernelspec": {
   "display_name": "Python 2",
   "language": "python",
   "name": "python2"
  },
  "language_info": {
   "codemirror_mode": {
    "name": "ipython",
    "version": 2
   },
   "file_extension": ".py",
   "mimetype": "text/x-python",
   "name": "python",
   "nbconvert_exporter": "python",
   "pygments_lexer": "ipython2",
   "version": "2.7.13"
  }
 },
 "nbformat": 4,
 "nbformat_minor": 2
}
