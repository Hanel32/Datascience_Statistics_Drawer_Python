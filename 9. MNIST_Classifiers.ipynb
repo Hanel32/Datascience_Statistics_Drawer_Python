{
 "cells": [
  {
   "cell_type": "markdown",
   "metadata": {},
   "source": [
    "MNIST classifier exercise from Hands on Machine Learning in Tensorflow and Scikit-Learn\n",
    "----\n",
    "\n",
    "First, we'll download the MNIST dataset."
   ]
  },
  {
   "cell_type": "code",
   "execution_count": 2,
   "metadata": {},
   "outputs": [
    {
     "data": {
      "text/plain": [
       "{'COL_NAMES': ['label', 'data'],\n",
       " 'DESCR': 'mldata.org dataset: mnist-original',\n",
       " 'data': array([[0, 0, 0, ..., 0, 0, 0],\n",
       "        [0, 0, 0, ..., 0, 0, 0],\n",
       "        [0, 0, 0, ..., 0, 0, 0],\n",
       "        ..., \n",
       "        [0, 0, 0, ..., 0, 0, 0],\n",
       "        [0, 0, 0, ..., 0, 0, 0],\n",
       "        [0, 0, 0, ..., 0, 0, 0]], dtype=uint8),\n",
       " 'target': array([ 0.,  0.,  0., ...,  9.,  9.,  9.])}"
      ]
     },
     "execution_count": 2,
     "metadata": {},
     "output_type": "execute_result"
    }
   ],
   "source": [
    "from sklearn.datasets import fetch_mldata\n",
    "mnist = fetch_mldata('MNIST original')\n",
    "mnist # Get a peek at the data"
   ]
  },
  {
   "cell_type": "markdown",
   "metadata": {},
   "source": [
    "To explain:\n",
    "----\n",
    "DESCR is a description of the dataset\n",
    "\n",
    "data is the feature array\n",
    "\n",
    "target is the array of labels."
   ]
  },
  {
   "cell_type": "code",
   "execution_count": 3,
   "metadata": {},
   "outputs": [
    {
     "name": "stdout",
     "output_type": "stream",
     "text": [
      "X: (70000L, 784L)\n",
      "Y: (70000L,)\n"
     ]
    }
   ],
   "source": [
    "# Assign the data and target values to variables.\n",
    "X, y = mnist[\"data\"], mnist[\"target\"]\n",
    "\n",
    "# Dimensions of the members\n",
    "print(\"X: \" + str(X.shape)) # Each image is 28x28 = 784 features.\n",
    "print(\"Y: \" + str(y.shape)) # Each image has a single target value"
   ]
  },
  {
   "cell_type": "markdown",
   "metadata": {},
   "source": [
    "Now, let's reconstruct a member of the set and get a feel for the data.\n",
    "----"
   ]
  },
  {
   "cell_type": "code",
   "execution_count": 56,
   "metadata": {},
   "outputs": [
    {
     "name": "stdout",
     "output_type": "stream",
     "text": [
      "The target identity is:5.0\n"
     ]
    },
    {
     "data": {
      "image/png": "[encoded data removed]",
      "text/plain": [
       "<matplotlib.figure.Figure at 0x1f48fda0>"
      ]
     },
     "metadata": {},
     "output_type": "display_data"
    }
   ],
   "source": [
    "%matplotlib inline\n",
    "import matplotlib\n",
    "import matplotlib.pyplot as plt\n",
    "\n",
    "# Extract the 36 thousandth image of the dataset, and return its dimensions.\n",
    "some_digit = X[34000] \n",
    "some_digit_image = some_digit.reshape(28, 28)\n",
    "\n",
    "# Plot the image, and output the target identity\n",
    "print(\"The target identity is:\" + str(y[34000]))\n",
    "plt.imshow(some_digit_image, cmap = matplotlib.cm.binary, interpolation=\"nearest\")\n",
    "plt.axis(\"off\")\n",
    "plt.show()"
   ]
  },
  {
   "cell_type": "markdown",
   "metadata": {},
   "source": [
    "Before continuing with the data:\n",
    "----\n",
    "Split into training and testing sets, and randomly shuffle them."
   ]
  },
  {
   "cell_type": "code",
   "execution_count": 5,
   "metadata": {},
   "outputs": [],
   "source": [
    "import numpy as np\n",
    "\n",
    "# Split the sets\n",
    "X_train, X_test, y_train, y_test = X[:60000], X[60000:], y[:60000], y[60000:]\n",
    "\n",
    "# Shuffle\n",
    "shuffle_index = np.random.permutation(60000)\n",
    "X_train, y_train = X_train[shuffle_index], y_train[shuffle_index]"
   ]
  },
  {
   "cell_type": "markdown",
   "metadata": {},
   "source": [
    "Now, first, we'll train a binary classifier to recognize the 1 that we extracted in the dataset.\n",
    "----"
   ]
  },
  {
   "cell_type": "code",
   "execution_count": 6,
   "metadata": {},
   "outputs": [
    {
     "name": "stdout",
     "output_type": "stream",
     "text": [
      "Classifying the 5: [ True]\n",
      "Classifying the 1: [False]\n"
     ]
    }
   ],
   "source": [
    "from sklearn.linear_model import SGDClassifier\n",
    "\n",
    "# Extract the 5's\n",
    "y_train_5 = (y_train ==5)\n",
    "y_test_5  = (y_test  ==5)\n",
    "\n",
    "# Fit a Stochastic Gradient Descent model to the dataset to identify 5's\n",
    "sgd_clf   = SGDClassifier(random_state=42)\n",
    "sgd_clf.fit(X_train, y_train_5)\n",
    "\n",
    "# See the classification of the 1:\n",
    "print(\"Classifying the 5: \" + str(sgd_clf.predict([some_digit])))\n",
    "\n",
    "# Check how it classifies a 1\n",
    "five = X[12345]\n",
    "print(\"Classifying the 1: \" + str(sgd_clf.predict([five])))"
   ]
  },
  {
   "cell_type": "markdown",
   "metadata": {},
   "source": [
    "Performance Measures\n",
    "----\n",
    "First, let's check out $\\textbf{Stratified K-Fold}$"
   ]
  },
  {
   "cell_type": "code",
   "execution_count": 7,
   "metadata": {},
   "outputs": [
    {
     "name": "stdout",
     "output_type": "stream",
     "text": [
      "0.964\n",
      "0.97025\n",
      "0.9563\n"
     ]
    }
   ],
   "source": [
    "from sklearn.model_selection import StratifiedKFold\n",
    "from sklearn.base import clone\n",
    "\n",
    "skfolds = StratifiedKFold(n_splits=3, random_state=42)\n",
    "\n",
    "# Use the stratified k-fold to make 3 test/train splits.\n",
    "for train_index, test_index in skfolds.split(X_train, y_train_5):\n",
    "    clone_clf     = clone(sgd_clf)            # The learning function\n",
    "    X_train_folds = X_train[train_index]      # The training data for X\n",
    "    y_train_folds = (y_train_5[train_index])  # The training data for y\n",
    "    X_test_fold   = X_train[test_index]       # The testing data for X\n",
    "    y_test_fold   = (y_train_5[test_index])   # The testing data for y\n",
    "    \n",
    "    clone_clf.fit(X_train_folds, y_train_folds)     # Fit to this fold's training data\n",
    "    y_pred = clone_clf.predict(X_test_fold)         # Classify the testing data\n",
    "    n_correct = sum(y_pred == y_test_fold)          # Sum up the classifications that were equal to actual\n",
    "    print(float(n_correct) / float(len(y_pred)))    # After all of the work on this fold, output the percent correct"
   ]
  },
  {
   "cell_type": "markdown",
   "metadata": {},
   "source": [
    "Now, let's check out the $\\textbf{cross_val_score()}$ to evaluate our model using $\\textbf{K-Fold Cross Validation}$."
   ]
  },
  {
   "cell_type": "code",
   "execution_count": 8,
   "metadata": {},
   "outputs": [
    {
     "data": {
      "text/plain": [
       "array([ 0.964  ,  0.97025,  0.9563 ])"
      ]
     },
     "execution_count": 8,
     "metadata": {},
     "output_type": "execute_result"
    }
   ],
   "source": [
    "from sklearn.model_selection import cross_val_score\n",
    "\n",
    "# Get the cross validation score\n",
    "cross_val_score(sgd_clf, X_train, y_train_5, cv=3, scoring=\"accuracy\")"
   ]
  },
  {
   "cell_type": "markdown",
   "metadata": {},
   "source": [
    "Now, it's known that $\\textbf{accuracy}$ isn't always the fairest assessment of a model.\n",
    "\n",
    "Check out this toy example, naively scoring everything as not-5."
   ]
  },
  {
   "cell_type": "code",
   "execution_count": 9,
   "metadata": {},
   "outputs": [
    {
     "data": {
      "text/plain": [
       "array([ 0.9138 ,  0.905  ,  0.91015])"
      ]
     },
     "execution_count": 9,
     "metadata": {},
     "output_type": "execute_result"
    }
   ],
   "source": [
    "from sklearn.base import BaseEstimator\n",
    "\n",
    "class Never5Classifier(BaseEstimator):\n",
    "    def fit(self, X, y=None):\n",
    "        pass\n",
    "    def predict(self, X):\n",
    "        return np.zeros((len(X), 1), dtype=bool)\n",
    "        \n",
    "never_5_clf = Never5Classifier()\n",
    "cross_val_score(never_5_clf, X_train, y_train_5, cv=3, scoring=\"accuracy\")"
   ]
  },
  {
   "cell_type": "markdown",
   "metadata": {},
   "source": [
    "It's important to note that the $\\textbf{accuracy}$ for the model is still above 87% for a totally naive classifier.\n",
    "\n",
    "A much better way to evaluate performance is the $\\textbf{confusion matrix}$."
   ]
  },
  {
   "cell_type": "code",
   "execution_count": 10,
   "metadata": {},
   "outputs": [
    {
     "data": {
      "text/plain": [
       "array([[54118,   461],\n",
       "       [ 1728,  3693]])"
      ]
     },
     "execution_count": 10,
     "metadata": {},
     "output_type": "execute_result"
    }
   ],
   "source": [
    "from sklearn.model_selection import cross_val_predict\n",
    "from sklearn.metrics import confusion_matrix\n",
    "\n",
    "# Obtain a clean prediction for the data\n",
    "y_train_pred = cross_val_predict(sgd_clf, X_train, y_train_5, cv=3)\n",
    "\n",
    "# Create the confusion matrix\n",
    "confusion_matrix(y_train_5, y_train_pred)"
   ]
  },
  {
   "cell_type": "markdown",
   "metadata": {},
   "source": [
    "From the $\\textbf{confusion matrix}$, we can derive greater metrics for goodness of fit:\n",
    "\n",
    "$\\textbf{Precision:}$ $\\frac{TP}{TP + FP}$ which is a measure of how often the data classified is correct to the target.\n",
    "\n",
    "$\\textbf{Recall:}$ $\\frac{TP}{TP + FN}$ which is a measure of how much relevant information is retrieved by the algorithm."
   ]
  },
  {
   "cell_type": "code",
   "execution_count": 11,
   "metadata": {},
   "outputs": [
    {
     "name": "stdout",
     "output_type": "stream",
     "text": [
      "Precision 0.889022628792\n",
      "Recall 0.681239623686\n"
     ]
    }
   ],
   "source": [
    "from sklearn.metrics import precision_score, recall_score\n",
    "\n",
    "print(\"Precision \" + str(precision_score(y_train_5, y_train_pred)))\n",
    "print(\"Recall \" + str(recall_score(y_train_5, y_train_pred)))"
   ]
  },
  {
   "cell_type": "markdown",
   "metadata": {},
   "source": [
    "This leads us to the $\\textbf{F1 score}$ = $\\frac{2}{\\frac{1}{precision} + \\frac{1}{recall}}$\n",
    "\n",
    "Which is a balance between precision and recall."
   ]
  },
  {
   "cell_type": "code",
   "execution_count": 12,
   "metadata": {},
   "outputs": [
    {
     "name": "stdout",
     "output_type": "stream",
     "text": [
      "F1 score classifying 5's: 0.77138381201\n"
     ]
    }
   ],
   "source": [
    "from sklearn.metrics import f1_score\n",
    "\n",
    "print(\"F1 score classifying 5's: \" + str(f1_score(y_train_5, y_train_pred)))"
   ]
  },
  {
   "cell_type": "markdown",
   "metadata": {},
   "source": [
    "Beyond $\\textbf{F1}$, we've got the idea of $\\textbf{Precision/Recall tradeoff}$\n",
    "\n",
    "Let's check out the $\\textbf{Precision-Recall curve}$ for our dataset."
   ]
  },
  {
   "cell_type": "code",
   "execution_count": 13,
   "metadata": {},
   "outputs": [
    {
     "data": {
      "image/png": "[encoded data removed]",
      "text/plain": [
       "<matplotlib.figure.Figure at 0x162b13c8>"
      ]
     },
     "metadata": {},
     "output_type": "display_data"
    }
   ],
   "source": [
    "from sklearn.metrics import precision_recall_curve\n",
    "\n",
    "# Use the SGD classifier to score the data in 3 fold cross validation using the decision function\n",
    "y_scores = cross_val_predict(sgd_clf, X_train, y_train_5, cv=3, method=\"decision_function\")\n",
    "\n",
    "# Plot the precision/recall curve\n",
    "precisions, recalls, thresholds = precision_recall_curve(y_train_5, y_scores)\n",
    "\n",
    "# A function to plot the scores\n",
    "def plot_precision_recall_vs_threshold(precisions, recalls, thresholds):\n",
    "    plt.plot(thresholds, precisions[:-1], \"b--\", label=\"Precision\")\n",
    "    plt.plot(thresholds, recalls[:-1], \"g-\", label=\"Recall\")\n",
    "    plt.xlabel(\"Threshold\")\n",
    "    plt.legend(loc=\"upper left\")\n",
    "    plt.ylim([0,1])\n",
    "    \n",
    "# Invocation of the function\n",
    "plot_precision_recall_vs_threshold(precisions, recalls, thresholds)\n",
    "plt.show()\n",
    "\n",
    "# How to set the threshold\n",
    "# y_scores = sgd_clg.decision_function([some_digit])\n",
    "# y_scores\n",
    "#\n",
    "# threshold = 0\n",
    "# y_digit_pred = (y_scores > threshold)\n",
    "#\n",
    "# Threshold is variate"
   ]
  },
  {
   "cell_type": "markdown",
   "metadata": {},
   "source": [
    "The ROC Curve\n",
    "----\n",
    "The reciever operating characteristic (ROC) curve plots the true positive rate against the false positive rate.\n",
    "\n",
    "Essentially, ROC is plotting sensitivity (recall) versus specificity."
   ]
  },
  {
   "cell_type": "code",
   "execution_count": 14,
   "metadata": {},
   "outputs": [
    {
     "data": {
      "image/png": "[encoded data removed]",
      "text/plain": [
       "<matplotlib.figure.Figure at 0x162a1fd0>"
      ]
     },
     "metadata": {},
     "output_type": "display_data"
    }
   ],
   "source": [
    "from sklearn.metrics import roc_curve\n",
    "\n",
    "# Get the true positive, false positive, and thresholds.\n",
    "fpr, tpr, thresholds = roc_curve(y_train_5, y_scores)\n",
    "\n",
    "# Plot FPR against TPR\n",
    "def plot_roc_curve(fpr, tpr, label=None):\n",
    "    plt.plot(fpr, tpr, linewidth=2, label=label)\n",
    "    plt.plot([0, 1], [0, 1], 'k--')\n",
    "    plt.axis([0, 1, 0, 1])\n",
    "    plt.xlabel('False Positive Rate')\n",
    "    plt.ylabel('True Positive Rate')\n",
    "    \n",
    "# Invoke the function\n",
    "plot_roc_curve(fpr, tpr)\n",
    "plt.show()"
   ]
  },
  {
   "cell_type": "markdown",
   "metadata": {},
   "source": [
    "Just like with precision and recall, there's a tradeoff.\n",
    "\n",
    "The $\\textbf{dotted-line}$ represents the ROC curve of a purely random classifier.\n",
    "\n",
    "Following this, a way to compare classifiers is by looking at the $\\textbf{area under the curve}$ or AUC\n",
    "\n",
    "An AUC of 1 is a perfect classifier, whereas an AUC of .5 is totally random."
   ]
  },
  {
   "cell_type": "code",
   "execution_count": 15,
   "metadata": {},
   "outputs": [
    {
     "data": {
      "text/plain": [
       "0.95619432473673605"
      ]
     },
     "execution_count": 15,
     "metadata": {},
     "output_type": "execute_result"
    }
   ],
   "source": [
    "from sklearn.metrics import roc_auc_score\n",
    "\n",
    "roc_auc_score(y_train_5, y_scores)"
   ]
  },
  {
   "cell_type": "markdown",
   "metadata": {},
   "source": [
    "Tip:\n",
    "----\n",
    "Since the $\\textbf{ROC curve}$ is so similar to the $\\textbf{precision/recall (or PR) curve}$, you may wonder how to decide which one to use. As a\n",
    "rule of thumb, you should prefer the PR curve whenever the positive class is rare or when you care more about the false\n",
    "positives than the false negatives, and the ROC curve otherwise.\n",
    "\n",
    "Now that we've seen these metrics\n",
    "----\n",
    "Let's train a random forest classifier and compare its ROC curve and ROC AUC score to SGD.\n",
    "\n",
    "Instead of decision_function() (as opposed to predict()), random forest has predict_proba(), or probability."
   ]
  },
  {
   "cell_type": "code",
   "execution_count": 16,
   "metadata": {},
   "outputs": [
    {
     "data": {
      "image/png": "[encoded data removed]",
      "text/plain": [
       "<matplotlib.figure.Figure at 0x1bd61438>"
      ]
     },
     "metadata": {},
     "output_type": "display_data"
    },
    {
     "data": {
      "text/plain": [
       "0.99276238540094852"
      ]
     },
     "execution_count": 16,
     "metadata": {},
     "output_type": "execute_result"
    }
   ],
   "source": [
    "from sklearn.ensemble import RandomForestClassifier\n",
    "\n",
    "# Initialize the classifier and cross validate\n",
    "forest_clf = RandomForestClassifier(random_state=42)\n",
    "y_probas_forest = cross_val_predict(forest_clf, X_train, y_train_5, cv=3, method=\"predict_proba\")\n",
    "\n",
    "# Translate probability scores into the positive class's probability\n",
    "y_scores_forest = y_probas_forest[:, 1] # score = proba of positive class\n",
    "fpr_forest, tpr_forest, thresholds_forest = roc_curve(y_train_5, y_scores_forest)\n",
    "\n",
    "# Plot\n",
    "plt.plot(fpr, tpr, \"b:\", label=\"SGD\")\n",
    "plot_roc_curve(fpr_forest, tpr_forest, \"Random Forest\")\n",
    "plt.legend(loc=\"lower right\")\n",
    "plt.show()\n",
    "\n",
    "# Get ROC AUC score\n",
    "roc_auc_score(y_train_5, y_scores_forest)"
   ]
  },
  {
   "cell_type": "markdown",
   "metadata": {},
   "source": [
    "Moving forward into Multiclass Classification\n",
    "----\n",
    "Let's try and classify between more than just 5's and everything else.\n",
    "\n",
    "Automatically, Scikit-Learn detects what type of classifier you're trying to run. In this instance, we're creating 10 binary classifiers; one for each digit."
   ]
  },
  {
   "cell_type": "code",
   "execution_count": 18,
   "metadata": {},
   "outputs": [
    {
     "data": {
      "text/plain": [
       "array([ 1.])"
      ]
     },
     "execution_count": 18,
     "metadata": {},
     "output_type": "execute_result"
    }
   ],
   "source": [
    "sgd_clf.fit(X_train, y_train)\n",
    "sgd_clf.predict([some_digit]) # Is actually a 5.\n",
    "sgd_clf.predict([five])       # Is actually a 1."
   ]
  },
  {
   "cell_type": "markdown",
   "metadata": {},
   "source": [
    "Effectively, this has just created $\\textbf{10 binary classifiers}$, whereas before we were creating a singular classifier looking at 5's.\n",
    "\n",
    "Let's look at each classifier's output for this variable:"
   ]
  },
  {
   "cell_type": "code",
   "execution_count": 19,
   "metadata": {},
   "outputs": [
    {
     "data": {
      "text/plain": [
       "array([[-165025.74463043, -432133.06921166, -432827.50368092,\n",
       "        -161715.53138372, -302566.75472443,   82858.80459737,\n",
       "        -747126.52058166, -375929.37032348, -634527.10779036,\n",
       "        -552375.33671828]])"
      ]
     },
     "execution_count": 19,
     "metadata": {},
     "output_type": "execute_result"
    }
   ],
   "source": [
    "some_digit_scores = sgd_clf.decision_function([some_digit])\n",
    "some_digit_scores"
   ]
  },
  {
   "cell_type": "markdown",
   "metadata": {},
   "source": [
    "As you can see, $\\textbf{5's array position has the highest score}$, rather, the classifier looking for 5 scored the highest."
   ]
  },
  {
   "cell_type": "code",
   "execution_count": 20,
   "metadata": {},
   "outputs": [
    {
     "name": "stdout",
     "output_type": "stream",
     "text": [
      "Highest scored class: 5\n",
      "All classes: [ 0.  1.  2.  3.  4.  5.  6.  7.  8.  9.]\n",
      "Class 5: 5.0\n"
     ]
    }
   ],
   "source": [
    "# Classifier information\n",
    "print(\"Highest scored class: \" + str(np.argmax(some_digit_scores)))\n",
    "print(\"All classes: \" + str(sgd_clf.classes_))\n",
    "print(\"Class 5: \" + str(sgd_clf.classes_[5]))"
   ]
  },
  {
   "cell_type": "markdown",
   "metadata": {},
   "source": [
    "One Versus All, and One Versus One methods for binary classifiers\n",
    "----"
   ]
  },
  {
   "cell_type": "code",
   "execution_count": 21,
   "metadata": {},
   "outputs": [
    {
     "name": "stdout",
     "output_type": "stream",
     "text": [
      "Classification: [ 3.]\n",
      "Number of models: 45\n"
     ]
    }
   ],
   "source": [
    "from sklearn.multiclass import OneVsOneClassifier\n",
    "\n",
    "# Fit the classifier to the data using a OvO model\n",
    "ovo_clf = OneVsOneClassifier(SGDClassifier(random_state=42))\n",
    "ovo_clf.fit(X_train, y_train)\n",
    "\n",
    "# Classify the 5, output the total number of scores\n",
    "print(\"Classification: \" + str(ovo_clf.predict([some_digit])))\n",
    "print(\"Number of models: \" + str(len(ovo_clf.estimators_)))"
   ]
  },
  {
   "cell_type": "markdown",
   "metadata": {},
   "source": [
    "Instead of using the resources for OvA and OvO, using a $\\textbf{Random Forest}$ is just as easy.\n",
    "\n",
    "Luckily, Random Forest automatically handles multiclass problems. Rather than scores, if you remember, you can derive the probability of each class in classification."
   ]
  },
  {
   "cell_type": "code",
   "execution_count": 22,
   "metadata": {},
   "outputs": [
    {
     "name": "stdout",
     "output_type": "stream",
     "text": [
      "Predicted class: [ 5.]\n",
      "Predicted probabilities: [[ 0.   0.   0.   0.1  0.   0.9  0.   0.   0.   0. ]]\n"
     ]
    }
   ],
   "source": [
    "forest_clf.fit(X_train, y_train)\n",
    "print(\"Predicted class: \" + str(forest_clf.predict([some_digit])))\n",
    "print(\"Predicted probabilities: \" + str(forest_clf.predict_proba([some_digit])))"
   ]
  },
  {
   "cell_type": "markdown",
   "metadata": {},
   "source": [
    "Let's get $\\textbf{Random Forest's cross-validation}$ score."
   ]
  },
  {
   "cell_type": "code",
   "execution_count": 23,
   "metadata": {},
   "outputs": [
    {
     "name": "stdout",
     "output_type": "stream",
     "text": [
      "Random Forest Cross-val: [ 0.93981204  0.94079704  0.94429164]\n",
      "SGD Cross-val: [ 0.87677465  0.86894345  0.87343101]\n"
     ]
    }
   ],
   "source": [
    "# Random Forest Model\n",
    "print(\"Random Forest Cross-val: \" + str(cross_val_score(forest_clf, X_train, y_train, cv=3, scoring=\"accuracy\")))\n",
    "\n",
    "# OvO SGD model\n",
    "print(\"SGD Cross-val: \" + str(cross_val_score(sgd_clf, X_train, y_train, cv=3, scoring=\"accuracy\")))"
   ]
  },
  {
   "cell_type": "markdown",
   "metadata": {},
   "source": [
    "To $\\textbf{increase accuracy}$, we can simply $\\textbf{scale}$ the inputs:"
   ]
  },
  {
   "cell_type": "code",
   "execution_count": 24,
   "metadata": {},
   "outputs": [
    {
     "name": "stdout",
     "output_type": "stream",
     "text": [
      "Scaled SGD score: [ 0.90756849  0.91189559  0.91143672]\n",
      "Scaled RF score: [ 0.93971206  0.94094705  0.94434165]\n"
     ]
    }
   ],
   "source": [
    "from sklearn.preprocessing import StandardScaler\n",
    "\n",
    "scaler = StandardScaler()\n",
    "X_train_scaled = scaler.fit_transform(X_train.astype(np.float64))\n",
    "\n",
    "print(\"Scaled SGD score: \" + str(cross_val_score(sgd_clf, X_train_scaled, y_train, cv=3, scoring=\"accuracy\")))\n",
    "print(\"Scaled RF score: \" + str(cross_val_score(forest_clf, X_train_scaled, y_train, cv=3, scoring=\"accuracy\")))"
   ]
  },
  {
   "cell_type": "markdown",
   "metadata": {},
   "source": [
    "As you can see, SGD had a pretty nice increase in accuracy, whereas Random Forest was largely unaffected.\n",
    "\n",
    "Error Analysis\n",
    "----\n",
    "Just like in binary class problems, the $\\textbf{confusion matrix}$ is an important tool in understanding OvO classifers."
   ]
  },
  {
   "cell_type": "code",
   "execution_count": 25,
   "metadata": {},
   "outputs": [
    {
     "data": {
      "text/plain": [
       "array([[5732,    2,   27,   11,   12,   48,   40,    9,   39,    3],\n",
       "       [   2, 6500,   41,   25,    6,   40,    7,   10,   98,   13],\n",
       "       [  54,   37, 5356,  101,   84,   21,   87,   53,  148,   17],\n",
       "       [  50,   44,  134, 5372,    3,  221,   30,   51,  137,   89],\n",
       "       [  17,   29,   42,    8, 5376,    8,   49,   29,   89,  195],\n",
       "       [  74,   47,   36,  183,   77, 4591,  109,   32,  177,   95],\n",
       "       [  35,   26,   51,    2,   42,   85, 5626,    7,   43,    1],\n",
       "       [  27,   24,   70,   29,   57,   10,    5, 5787,   17,  239],\n",
       "       [  49,  168,   84,  164,   14,  155,   57,   22, 5014,  124],\n",
       "       [  44,   38,   25,   85,  178,   29,    2,  199,   85, 5264]])"
      ]
     },
     "execution_count": 25,
     "metadata": {},
     "output_type": "execute_result"
    }
   ],
   "source": [
    "y_train_pred = cross_val_predict(sgd_clf, X_train_scaled, y_train, cv=3)\n",
    "conf_mx = confusion_matrix(y_train, y_train_pred)\n",
    "conf_mx"
   ]
  },
  {
   "cell_type": "markdown",
   "metadata": {},
   "source": [
    "Instead of looking at the numerical representation, let's represent the confusion matrix as $\\textbf{grayscale}$."
   ]
  },
  {
   "cell_type": "code",
   "execution_count": 26,
   "metadata": {
    "scrolled": true
   },
   "outputs": [
    {
     "data": {
      "text/plain": [
       "<matplotlib.image.AxesImage at 0x1be75240>"
      ]
     },
     "execution_count": 26,
     "metadata": {},
     "output_type": "execute_result"
    },
    {
     "data": {
      "image/png": "[encoded data removed]",
      "text/plain": [
       "<matplotlib.figure.Figure at 0x1c48add8>"
      ]
     },
     "metadata": {},
     "output_type": "display_data"
    }
   ],
   "source": [
    "plt.matshow(conf_mx, cmap=plt.cm.gray)\n",
    "\n",
    "# Notice that 5 is the darkest square, signifying the most difficult\n",
    "# to classify correctly."
   ]
  },
  {
   "cell_type": "markdown",
   "metadata": {},
   "source": [
    "That's pretty cool, but let's focus on the $\\textbf{error}$ in the classifier.\n",
    "\n",
    "First, we'll divide each value in the confusion matrix by the total number of images in that class."
   ]
  },
  {
   "cell_type": "code",
   "execution_count": 45,
   "metadata": {},
   "outputs": [
    {
     "data": {
      "image/png": "[encoded data removed]",
      "text/plain": [
       "<matplotlib.figure.Figure at 0x1f16c198>"
      ]
     },
     "metadata": {},
     "output_type": "display_data"
    }
   ],
   "source": [
    "# Get the number of each class through row sums\n",
    "row_sums = conf_mx.sum(axis=1, keepdims=True)\n",
    "\n",
    "# Ensure row_sums is float\n",
    "row_sums = np.ndarray.astype(row_sums, float)\n",
    "\n",
    "\n",
    "# Derive the normalized confusion matrix\n",
    "norm_conf_mx = np.divide(conf_mx, row_sums)\n",
    "\n",
    "# Fill the diagonal with all 0's (instead of true positive/negative)\n",
    "np.fill_diagonal(norm_conf_mx, 0)\n",
    "\n",
    "# Plot\n",
    "plt.matshow(norm_conf_mx, cmap=plt.cm.gray)\n",
    "plt.show()"
   ]
  },
  {
   "cell_type": "markdown",
   "metadata": {},
   "source": [
    "Let's break it down a bit:\n",
    "----\n",
    "-The upper white square is 5 being misclassified as 3.\n",
    "\n",
    "-To its lower left, again, 3's are being misclassified as 5.\n",
    "\n",
    "-In columns 7 and 9, 7's and 9's are being misclassified.\n",
    "\n",
    "-In columns 8 and 9, 4 is misclassified as 9, and 8 is misclassified as 5.\n",
    "\n",
    "Let's check some of these spots out:\n",
    "----\n",
    "We'll focus on the 3 and 5 misclassifications.\n",
    "\n",
    "In the output images, the bottom left and bottom right clusters are correctly classified, conversely, the others are incorrect classifications."
   ]
  },
  {
   "cell_type": "code",
   "execution_count": 53,
   "metadata": {},
   "outputs": [],
   "source": [
    "# EXTRA\n",
    "def plot_digits(instances, images_per_row=10, **options):\n",
    "    size = 28\n",
    "    images_per_row = min(len(instances), images_per_row)\n",
    "    images = [instance.reshape(size,size) for instance in instances]\n",
    "    n_rows = (len(instances) - 1) // images_per_row + 1\n",
    "    row_images = []\n",
    "    n_empty = n_rows * images_per_row - len(instances)\n",
    "    images.append(np.zeros((size, size * n_empty)))\n",
    "    for row in range(n_rows):\n",
    "        rimages = images[row * images_per_row : (row + 1) * images_per_row]\n",
    "        row_images.append(np.concatenate(rimages, axis=1))\n",
    "    image = np.concatenate(row_images, axis=0)\n",
    "    plt.imshow(image, cmap = matplotlib.cm.binary, **options)\n",
    "    plt.axis(\"off\")"
   ]
  },
  {
   "cell_type": "code",
   "execution_count": 54,
   "metadata": {},
   "outputs": [
    {
     "data": {
      "image/png": "[encoded data removed]",
      "text/plain": [
       "<matplotlib.figure.Figure at 0x1ba89208>"
      ]
     },
     "metadata": {},
     "output_type": "display_data"
    }
   ],
   "source": [
    "# Extract the 3 and 5 information\n",
    "c1_a, c1_b = 3, 5\n",
    "X_aa = X_train[(y_train == c1_a) & (y_train_pred == c1_a)]\n",
    "X_ab = X_train[(y_train == c1_a) & (y_train_pred == c1_b)]\n",
    "X_ba = X_train[(y_train == c1_b) & (y_train_pred == c1_a)]\n",
    "X_bb = X_train[(y_train == c1_b) & (y_train_pred == c1_b)]\n",
    "\n",
    "# Plot the information\n",
    "plt.figure(figsize=(8,8))\n",
    "plt.subplot(221); plot_digits(X_aa[:25], 5)\n",
    "plt.subplot(222); plot_digits(X_ab[:25], 5)\n",
    "plt.subplot(223); plot_digits(X_ba[:25], 5)\n",
    "plt.subplot(224); plot_digits(X_bb[:25], 5)\n",
    "plt.show()"
   ]
  },
  {
   "cell_type": "markdown",
   "metadata": {},
   "source": [
    "Multilabel Classification\n",
    "----\n",
    "Sometimes, your data needs multiple labels, for instance, in facial recognition. Essentially, there may be no obvious classification, so multiple opinions is better."
   ]
  },
  {
   "cell_type": "code",
   "execution_count": null,
   "metadata": {},
   "outputs": [],
   "source": [
    "from sklearn.neighbors import KNeighborsClassifier\n",
    "\n",
    "# Prepare the augmented features\n",
    "y_train_large = (y_train >= 7)\n",
    "y_train_odd   = (y_train%2 == 1)\n",
    "y_multilabel  = np.c_[y_train_large, y_train_odd]\n",
    "\n",
    "# Fit the KNN model\n",
    "knn_clf       = KNeighborsClassifer()\n",
    "knn_clf.fit(X_train, y_multilabel)\n",
    "\n"
   ]
  }
 ],
 "metadata": {
  "kernelspec": {
   "display_name": "Python 2",
   "language": "python",
   "name": "python2"
  },
  "language_info": {
   "codemirror_mode": {
    "name": "ipython",
    "version": 2
   },
   "file_extension": ".py",
   "mimetype": "text/x-python",
   "name": "python",
   "nbconvert_exporter": "python",
   "pygments_lexer": "ipython2",
   "version": "2.7.13"
  }
 },
 "nbformat": 4,
 "nbformat_minor": 2
}
