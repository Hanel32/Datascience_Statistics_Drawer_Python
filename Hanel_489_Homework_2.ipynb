{
 "cells": [
  {
   "cell_type": "markdown",
   "metadata": {},
   "source": [
    "Homework 2: Statistical experiments\n",
    "----\n",
    "- Author: Carson Hanel\n",
    "- Class : STAT 489 Principles of Datascience and Statistics\n",
    "- Prof  : Alan Dabney\n",
    "\n",
    "-1. Variable Explanation:\n",
    "----\n",
    "Standard Distribution:\n",
    "----\n",
    "- $\\sigma$ = The standard deviation\n",
    "- $\\sigma^2$ = The variance\n",
    "- $\\mu$ = the true mean of the sample\n",
    "- $\\bar{x}$ = the estimated mean of the sample\n",
    "- $n$ = The sample size\n",
    "- $N$ = The number of values within the sample\n",
    "- $N$($\\mu$ = 0, $\\sigma^2$ = 0) = the normal distribution"
   ]
  },
  {
   "cell_type": "code",
   "execution_count": 1,
   "metadata": {
    "collapsed": true
   },
   "outputs": [],
   "source": [
    "import numpy as np\n",
    "import random\n",
    "import math\n",
    "import time\n",
    "from scipy import stats"
   ]
  },
  {
   "cell_type": "code",
   "execution_count": 2,
   "metadata": {},
   "outputs": [
    {
     "name": "stdout",
     "output_type": "stream",
     "text": [
      "Gamma:\n",
      "[[ 1.39166856  2.95022937  3.2152953   0.30580004  0.078118  ]\n",
      " [ 1.8880772   0.56576729  0.31334158  0.55678298  0.24068433]\n",
      " [ 1.24905435  0.70264868  2.44709946  0.9003395   0.45689789]\n",
      " [ 0.72723502  0.40291857  0.1630274   0.08346973  0.29579881]\n",
      " [ 0.06855272  1.91070313  1.22314052  1.3902951   3.47182825]]\n",
      "Standard:\n",
      "[[-1.31613006  1.63402001  1.52483261  1.97623751 -0.43204724]\n",
      " [-1.58017785  0.92940386 -1.31208601  0.03152515 -1.56648048]\n",
      " [-0.21385747 -0.12168759 -0.97892401 -1.08874484 -0.96293625]\n",
      " [-0.69737994 -0.13680079  0.54844969 -0.00363674 -0.38587469]\n",
      " [ 0.34392427 -1.54948076 -1.36669858 -0.81154387 -0.97039009]]\n"
     ]
    }
   ],
   "source": [
    "# Seed random\n",
    "random.seed(time.time())\n",
    "\n",
    "# Trials and values per trial\n",
    "N = 5000\n",
    "n = 100\n",
    "\n",
    "# Create the random data for both gamma and standard normals\n",
    "data_std = np.random.standard_normal((n, N))\n",
    "data_gam = np.random.gamma(1, 1, (n, N))\n",
    "\n",
    "\n",
    "# Just showing the data is truly random\n",
    "print(\"Gamma:\")\n",
    "print(data_gam[:5,:5])\n",
    "print(\"Standard:\")\n",
    "print(data_std[:5,:5])"
   ]
  },
  {
   "cell_type": "markdown",
   "metadata": {},
   "source": [
    "First, I'll begin by defining some important parts of sample tests:\n",
    "----\n",
    "- Sample (5000 total simulations):\n",
    "\n",
    "$Y$ = $\\sum_{i=1}^{n}$$y_i$ where n is 100 values \n",
    "\n",
    "- Sample mean: \n",
    "\n",
    "$\\bar{y}$ = $\\frac{y_1 + y_2 + ... + y_n}{n}$\n",
    "\n",
    "- Sample standard deviation:\n",
    "\n",
    "$\\hat{\\sigma}$ = $\\sqrt{\\frac{(y_1-\\bar{y})^2 + (y_2-\\bar{y})^2+...+(y_n-\\bar{y})^2}{n-1}}$\n",
    "\n",
    "- Test statistic:\n",
    "\n",
    "$t$ = $\\frac{\\bar{y}-m_0}{\\frac{\\hat{\\sigma}}{\\sqrt{n}}}$ where $m_0$ is the hypothesized value, or rather, $\\mu$ = 0"
   ]
  },
  {
   "cell_type": "code",
   "execution_count": 3,
   "metadata": {
    "collapsed": true,
    "scrolled": false
   },
   "outputs": [],
   "source": [
    "# Create an array for the t, p values\n",
    "sim_ts = np.zeros((N))\n",
    "sim_pv = np.zeros((N))\n",
    "\n",
    "# Save computing power\n",
    "n_sqrt = np.sqrt(n)\n",
    "\n",
    "# Iterate our generated simulations and calculate t-statistcs:\n",
    "for i in range(N):                       \n",
    "    sim_i     = data_std[:, i]                     # Grab the i'th simualtion value\n",
    "    x_bar_i   = np.mean(sim_i)                     # Calculate the sample mean\n",
    "    s_i       = np.std(sim_i)                      # Calculate the sample standard deviation\n",
    "    sim_ts[i] = (x_bar_i - 0)/(s_i / n_sqrt)       # Test statistic\n",
    "    sim_pv[i] = stats.t.sf(sim_ts[i], n-1)         # P-value\n",
    "                                                   # credit: http://docs.scipy.org/doc/scipy/reference/tutorial/stats."
   ]
  },
  {
   "cell_type": "markdown",
   "metadata": {},
   "source": [
    "Note: How T and P statistics relate\n",
    "----"
   ]
  },
  {
   "cell_type": "code",
   "execution_count": 4,
   "metadata": {},
   "outputs": [
    {
     "name": "stdout",
     "output_type": "stream",
     "text": [
      "T-statistic:-0.89555033342\n",
      "P-value    :0.813667355585\n",
      "\n",
      "T-statistic:-0.941714457856\n",
      "P-value    :0.825684428964\n",
      "\n",
      "T-statistic:-1.56741513407\n",
      "P-value    :0.939895701209\n",
      "\n",
      "T-statistic:0.157791606109\n",
      "P-value    :0.437471203585\n",
      "\n",
      "T-statistic:0.624025877801\n",
      "P-value    :0.267022950253\n",
      "\n"
     ]
    }
   ],
   "source": [
    "# Peek at the first five trials\n",
    "for i in range(5):\n",
    "    print(\"T-statistic:\" + str(sim_ts[i]))\n",
    "    print(\"P-value    :\" + str(sim_pv[i]))\n",
    "    print(\"\")"
   ]
  },
  {
   "cell_type": "code",
   "execution_count": 5,
   "metadata": {},
   "outputs": [
    {
     "name": "stdout",
     "output_type": "stream",
     "text": [
      ".05 p-value: 0.0536\n",
      ".10 p-value: 0.1064\n",
      ".15 p-value: 0.1582\n"
     ]
    }
   ],
   "source": [
    "# Calculate the percent of p values in N simulations less than thresholds\n",
    "lt_05 = float(len([x for x in sim_pv if x < .05])) / N\n",
    "lt_10 = float(len([x for x in sim_pv if x < .10])) / N\n",
    "lt_15 = float(len([x for x in sim_pv if x < .15])) / N\n",
    "\n",
    "# As you can see, the p-values are pretty solid!\n",
    "# Fixed: changed from one-sided to two-sided p-value.\n",
    "print(\".05 p-value: \" + str(lt_05))\n",
    "print(\".10 p-value: \" + str(lt_10))\n",
    "print(\".15 p-value: \" + str(lt_15))"
   ]
  },
  {
   "cell_type": "markdown",
   "metadata": {
    "collapsed": true
   },
   "source": [
    "-2. Variable Explanation\n",
    "----\n",
    "\n",
    "Gamma Distribution:\n",
    "----\n",
    "- $\\alpha$ = shape of the experiment\n",
    "- $\\beta$ = scale of the experiment\n",
    "- $\\Gamma$($\\alpha$ = 1, $\\beta$ = 1) = the gamma distribution"
   ]
  },
  {
   "cell_type": "code",
   "execution_count": 6,
   "metadata": {},
   "outputs": [],
   "source": [
    "# Create an array for the CI tuples\n",
    "sim_ci = np.zeros((10, N, 2))\n",
    "\n",
    "# Calculate 95% confidence intervals\n",
    "for j in np.arange(0, 100, 10):\n",
    "    for i in range(N):\n",
    "        sim_i        = data_gam[:(j+10), i]                  # Grab the i'th simualtion value\n",
    "        x_bar_i      = np.mean(sim_i)                   # Calculate the sample mean\n",
    "        s_i          = np.std(sim_i)                    # Calculate the sample standard deviation\n",
    "        sim_ci[j/10, i, 0] = x_bar_i - 1.96 * s_i / np.sqrt((j+10))\n",
    "        sim_ci[j/10, i, 1] = x_bar_i + 1.96 * s_i / np.sqrt((j+10))"
   ]
  },
  {
   "cell_type": "code",
   "execution_count": 7,
   "metadata": {},
   "outputs": [
    {
     "name": "stdout",
     "output_type": "stream",
     "text": [
      "10 sample percent covering Mu: 0.8624\n",
      "20 sample percent covering Mu: 0.893\n",
      "30 sample percent covering Mu: 0.9128\n",
      "40 sample percent covering Mu: 0.9246\n",
      "50 sample percent covering Mu: 0.926\n",
      "60 sample percent covering Mu: 0.9302\n",
      "70 sample percent covering Mu: 0.93\n",
      "80 sample percent covering Mu: 0.9318\n",
      "90 sample percent covering Mu: 0.9364\n",
      "100 sample percent covering Mu: 0.9366\n",
      "0.857\n",
      "0.8992\n",
      "0.914\n",
      "0.9234\n",
      "0.9248\n",
      "0.938\n",
      "0.9332\n",
      "0.9312\n",
      "0.9346\n",
      "0.942\n"
     ]
    }
   ],
   "source": [
    "# Calculate which percent of trials include Mu = 0\n",
    "cvrg = np.zeros((10, N))\n",
    "for i in range(10):\n",
    "    for j in range(N):\n",
    "        if(sim_ci[i, j, 0] < 1 and sim_ci[i, j, 1] > 1):\n",
    "            cvrg[i, j] = 1\n",
    "    print(str((i+1)*10) + \" sample percent covering Mu: \" + str(np.mean(cvrg[i])))\n",
    "    \n",
    "# versus your code\n",
    "for n in range(10, 101, 10):\n",
    "    results = np.empty(5000)\n",
    "    for i in range(0, 5000):\n",
    "        rvs = stats.gamma.rvs(a=1, scale=1, size = n)\n",
    "        upper = rvs.mean() + 1.96 * rvs.std() / np.sqrt(n) #Ahhhh! My n wasn't varying.\n",
    "        lower = rvs.mean() - 1.96 * rvs.std() / np.sqrt(n)\n",
    "        results[i] = upper > 1 and lower < 1\n",
    "    print(results.mean())"
   ]
  }
 ],
 "metadata": {
  "kernelspec": {
   "display_name": "Python 2",
   "language": "python",
   "name": "python2"
  },
  "language_info": {
   "codemirror_mode": {
    "name": "ipython",
    "version": 2
   },
   "file_extension": ".py",
   "mimetype": "text/x-python",
   "name": "python",
   "nbconvert_exporter": "python",
   "pygments_lexer": "ipython2",
   "version": "2.7.13"
  }
 },
 "nbformat": 4,
 "nbformat_minor": 2
}
