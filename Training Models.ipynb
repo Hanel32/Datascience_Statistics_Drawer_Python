{
 "cells": [
  {
   "cell_type": "markdown",
   "metadata": {},
   "source": [
    "Training Models in Machine Learning\n",
    "----\n",
    "\n",
    "Linear Regression:\n",
    "----\n",
    "$\\hat{y}$ = $\\theta_{0}$ + $\\theta_{1}$ $x_{1}$ + $\\theta_{2}$ $x_{2}$ + ... + $\\theta_{n}$ $x_{n}$\n",
    "\n",
    "$\\hat{y}$ is the predicted value.\n",
    "\n",
    "$n$ is the number of features.\n",
    "\n",
    "$x_{i}$ is the $i^{th}$ feature value.\n",
    "\n",
    "$\\theta_{j}$ is the $j^{th}$ model parameter.\n",
    "\n",
    "This can be written in the vectorized form:\n",
    "\n",
    "$\\hat{y}$ = $h_{\\theta}$($\\textbf{x}$) = $\\theta^{T}$ * $\\textbf{x}$\n",
    "\n",
    "To train a Linear Regression model, you need to find $\\theta$ minimizing the MSE:\n",
    "----\n",
    "To find this:\n",
    "\n",
    "$\\textbf{MSE(X, $h_{\\theta}$)}$ = $\\frac{1}{m}$ $\\sum^{m}_{i=1}$ ($\\theta^{T}$ * $\\textbf{$x^{(i)}$}$ - $\\textbf{$y^{(i)}$}$)\n",
    "\n",
    "The Normal Equation:\n",
    "----\n",
    "In order to find the value of $\\theta$ that minimizes the cost function, you can use $\\textbf{The Normal Equation}$, which is the closed form solution.\n",
    "\n",
    "$\\hat{\\theta}$ = ($\\textbf{$X^{T}$ * $X^{-1}$}$) * $\\textbf{$X^{T}$}$ * $\\textbf{y}$\n",
    "\n",
    "Let's generate random looking data and visualize."
   ]
  },
  {
   "cell_type": "code",
   "execution_count": 9,
   "metadata": {},
   "outputs": [
    {
     "name": "stdout",
     "output_type": "stream",
     "text": [
      "[[ 3.91669806]\n",
      " [ 2.9913759 ]]\n"
     ]
    }
   ],
   "source": [
    "import numpy as np\n",
    "import matplotlib.pyplot as plt\n",
    "\n",
    "X = 2 * np.random.rand(100, 1)\n",
    "y = 4 + 3 * X + np.random.randn(100, 1)\n",
    "\n",
    "X_b        = np.c_[np.ones((100, 1)), X]                     # Add the zero vector to each instance\n",
    "theta_best = np.linalg.inv(X_b.T.dot(X_b)).dot(X_b.T).dot(y) # Calculate the normal equation\n",
    "\n",
    "print(theta_best)"
   ]
  },
  {
   "cell_type": "markdown",
   "metadata": {},
   "source": [
    "As you can see, the Y intercept of the function was 4 and the slope 2, but with noise. Given this, we don't know the original values of the function, but we have a decent estimate.\n",
    "\n",
    "Now, you can make predictions using this theta:\n",
    "----"
   ]
  },
  {
   "cell_type": "code",
   "execution_count": 10,
   "metadata": {},
   "outputs": [
    {
     "data": {
      "text/plain": [
       "array([[ 3.91669806],\n",
       "       [ 9.89944987]])"
      ]
     },
     "execution_count": 10,
     "metadata": {},
     "output_type": "execute_result"
    }
   ],
   "source": [
    "X_new     = np.array([[0], [2]])\n",
    "X_new_b   = np.c_[np.ones((2, 1)), X_new] # Augment by 1\n",
    "y_predict = X_new_b.dot(theta_best)\n",
    "y_predict"
   ]
  },
  {
   "cell_type": "markdown",
   "metadata": {},
   "source": [
    "And then plot:\n",
    "----"
   ]
  },
  {
   "cell_type": "code",
   "execution_count": 11,
   "metadata": {},
   "outputs": [
    {
     "data": {
      "image/png": "[encoded data removed]",
      "text/plain": [
       "<matplotlib.figure.Figure at 0x8d685c0>"
      ]
     },
     "metadata": {},
     "output_type": "display_data"
    }
   ],
   "source": [
    "plt.plot(X_new, y_predict, \"r-\")\n",
    "plt.plot(X, y, \"b.\")\n",
    "plt.axis([0, 2, 0, 15])\n",
    "plt.show()"
   ]
  },
  {
   "cell_type": "markdown",
   "metadata": {},
   "source": [
    "In Scikit-Learn:\n",
    "----"
   ]
  },
  {
   "cell_type": "code",
   "execution_count": 13,
   "metadata": {},
   "outputs": [
    {
     "name": "stdout",
     "output_type": "stream",
     "text": [
      "(array([ 3.91669806]), array([[ 2.9913759]]))\n"
     ]
    },
    {
     "data": {
      "text/plain": [
       "array([[ 3.91669806],\n",
       "       [ 9.89944987]])"
      ]
     },
     "execution_count": 13,
     "metadata": {},
     "output_type": "execute_result"
    }
   ],
   "source": [
    "from sklearn.linear_model import LinearRegression\n",
    "\n",
    "lin_reg = LinearRegression()\n",
    "lin_reg.fit(X, y)\n",
    "print(lin_reg.intercept_, lin_reg.coef_)\n",
    "\n",
    "lin_reg.predict(X_new)"
   ]
  }
 ],
 "metadata": {
  "kernelspec": {
   "display_name": "Python 2",
   "language": "python",
   "name": "python2"
  },
  "language_info": {
   "codemirror_mode": {
    "name": "ipython",
    "version": 2
   },
   "file_extension": ".py",
   "mimetype": "text/x-python",
   "name": "python",
   "nbconvert_exporter": "python",
   "pygments_lexer": "ipython2",
   "version": "2.7.13"
  }
 },
 "nbformat": 4,
 "nbformat_minor": 2
}
