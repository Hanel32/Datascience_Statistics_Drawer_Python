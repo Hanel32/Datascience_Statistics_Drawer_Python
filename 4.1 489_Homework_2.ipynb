{
 "cells": [
  {
   "cell_type": "markdown",
   "metadata": {},
   "source": [
    "Homework 2: Statistical experiments\n",
    "----\n",
    "- Author: Carson Hanel\n",
    "- Class : STAT 489 Principles of Datascience and Statistics\n",
    "- Prof  : Alan Dabney\n",
    "\n",
    "-1. Variable Explanation:\n",
    "----\n",
    "Standard Distribution:\n",
    "----\n",
    "- $\\sigma$ = The standard deviation\n",
    "- $\\sigma^2$ = The variance\n",
    "- $\\mu$ = the true mean of the sample\n",
    "- $\\bar{x}$ = the estimated mean of the sample\n",
    "- $n$ = The sample size\n",
    "- $N$ = The number of values within the sample\n",
    "- $N$($\\mu$ = 0, $\\sigma^2$ = 0) = the normal distribution"
   ]
  },
  {
   "cell_type": "code",
   "execution_count": 9,
   "metadata": {},
   "outputs": [],
   "source": [
    "import numpy as np\n",
    "import random\n",
    "import math\n",
    "import time\n",
    "from scipy import stats"
   ]
  },
  {
   "cell_type": "code",
   "execution_count": 72,
   "metadata": {},
   "outputs": [
    {
     "name": "stdout",
     "output_type": "stream",
     "text": [
      "Gamma:\n",
      "[[ 1.79722526  1.20137891  0.65172731  0.01697816  0.21273913]\n",
      " [ 0.2706963   1.16002715  0.05033513  0.49403742  1.05551058]\n",
      " [ 1.94914248  0.56853525  0.51708952  1.36284182  0.06338771]\n",
      " [ 0.46702396  0.27705309  0.02588675  0.08280801  1.45206318]\n",
      " [ 0.14322237  0.21427689  6.13247993  0.46920567  1.95117935]]\n",
      "Standard:\n",
      "[[ 0.01183736 -1.7544278  -0.71253037 -0.7834558   0.06995385]\n",
      " [ 0.88423845 -0.5994952  -0.05254781  0.2516199  -1.86709008]\n",
      " [ 1.38617501 -0.89413782 -0.7063221   1.44143815  0.46341997]\n",
      " [-0.34453516  0.78109501  0.09506905 -0.90234608  0.3869368 ]\n",
      " [ 1.28899579  0.85954198  0.48901115  1.7819353  -0.45715746]]\n"
     ]
    }
   ],
   "source": [
    "# Seed random\n",
    "random.seed(time.time())\n",
    "\n",
    "# Trials and values per trial\n",
    "N = 5000\n",
    "n = 100\n",
    "\n",
    "# Create the random data for both gamma and standard normals\n",
    "data_std = np.random.standard_normal((n, N))\n",
    "data_gam = np.random.gamma(1, 1, (n, N))\n",
    "\n",
    "# Just showing the data is truly random\n",
    "print(\"Gamma:\")\n",
    "print(data_gam[:5,:5])\n",
    "print(\"Standard:\")\n",
    "print(data_std[:5,:5])"
   ]
  },
  {
   "cell_type": "markdown",
   "metadata": {},
   "source": [
    "First, I'll begin by defining some important parts of sample tests:\n",
    "----\n",
    "- Sample (5000 total simulations):\n",
    "\n",
    "$Y$ = $\\sum_{i=1}^{n}$$y_i$ where n is 100 values \n",
    "\n",
    "- Sample mean: \n",
    "\n",
    "$\\bar{y}$ = $\\frac{y_1 + y_2 + ... + y_n}{n}$\n",
    "\n",
    "- Sample standard deviation:\n",
    "\n",
    "$\\hat{\\sigma}$ = $\\sqrt{\\frac{(y_1-\\bar{y})^2 + (y_2-\\bar{y})^2+...+(y_n-\\bar{y})^2}{n-1}}$\n",
    "\n",
    "- Test statistic:\n",
    "\n",
    "$t$ = $\\frac{\\bar{y}-m_0}{\\frac{\\hat{\\sigma}}{\\sqrt{n}}}$ where $m_0$ is the hypothesized value, or rather, $\\mu$ = 0"
   ]
  },
  {
   "cell_type": "code",
   "execution_count": 23,
   "metadata": {
    "collapsed": true,
    "scrolled": false
   },
   "outputs": [],
   "source": [
    "# Create an array for the t, p values\n",
    "sim_ts = np.zeros((N))\n",
    "sim_pv = np.zeros((N))\n",
    "\n",
    "# Save computing power\n",
    "n_sqrt = np.sqrt(n)\n",
    "\n",
    "# Iterate our generated simulations and calculate t-statistcs:\n",
    "for i in range(N):                       \n",
    "    sim_i     = data_std[:, i]                     # Grab the i'th simualtion value\n",
    "    x_bar_i   = np.mean(sim_i)                     # Calculate the sample mean\n",
    "    s_i       = np.std(sim_i)                      # Calculate the sample standard deviation\n",
    "    sim_ts[i] = (x_bar_i - 0)/(s_i / n_sqrt)       # Test statistic\n",
    "    sim_pv[i] = stats.t.sf(sim_ts[i], n-1)         # P-value\n",
    "                                                   # credit: http://docs.scipy.org/doc/scipy/reference/tutorial/stats."
   ]
  },
  {
   "cell_type": "markdown",
   "metadata": {},
   "source": [
    "Note: How T and P statistics relate\n",
    "----"
   ]
  },
  {
   "cell_type": "code",
   "execution_count": 20,
   "metadata": {},
   "outputs": [
    {
     "name": "stdout",
     "output_type": "stream",
     "text": [
      "T-statistic:1.23254330145\n",
      "P-value    :0.110332622635\n",
      "\n",
      "T-statistic:-0.650494376126\n",
      "P-value    :0.741560128541\n",
      "\n",
      "T-statistic:-0.141347191855\n",
      "P-value    :0.55605855261\n",
      "\n",
      "T-statistic:0.440036604946\n",
      "P-value    :0.330434895032\n",
      "\n",
      "T-statistic:-0.609329435351\n",
      "P-value    :0.728149023141\n",
      "\n"
     ]
    }
   ],
   "source": [
    "# Peek at the first five trials\n",
    "for i in range(5):\n",
    "    print(\"T-statistic:\" + str(sim_ts[i]))\n",
    "    print(\"P-value    :\" + str(sim_pv[i]))\n",
    "    print(\"\")"
   ]
  },
  {
   "cell_type": "code",
   "execution_count": 21,
   "metadata": {},
   "outputs": [
    {
     "name": "stdout",
     "output_type": "stream",
     "text": [
      ".05 p-value: 0.0534\n",
      ".10 p-value: 0.1058\n",
      ".15 p-value: 0.1536\n"
     ]
    }
   ],
   "source": [
    "# Calculate the percent of p values in N simulations less than thresholds\n",
    "lt_05 = float(len([x for x in sim_pv if x < .05])) / N\n",
    "lt_10 = float(len([x for x in sim_pv if x < .10])) / N\n",
    "lt_15 = float(len([x for x in sim_pv if x < .15])) / N\n",
    "\n",
    "# As you can see, the p-values are pretty solid!\n",
    "print(\".05 p-value: \" + str(lt_05))\n",
    "print(\".10 p-value: \" + str(lt_10))\n",
    "print(\".15 p-value: \" + str(lt_15))"
   ]
  },
  {
   "cell_type": "markdown",
   "metadata": {
    "collapsed": true
   },
   "source": [
    "-2. Variable Explanation\n",
    "----\n",
    "\n",
    "Gamma Distribution:\n",
    "----\n",
    "- $\\alpha$ = shape of the experiment\n",
    "- $\\beta$ = scale of the experiment\n",
    "- $\\Gamma$($\\alpha$ = 1, $\\beta$ = 1) = the gamma distribution"
   ]
  },
  {
   "cell_type": "code",
   "execution_count": 58,
   "metadata": {},
   "outputs": [],
   "source": [
    "# Create an array for the CI tuples\n",
    "sim_ci = np.zeros((10, N, 2))\n",
    "\n",
    "# Save computing power\n",
    "n_sqrt = np.sqrt(n)\n",
    "\n",
    "# Calculate 95% confidence intervals\n",
    "for i in range(N):    \n",
    "    for j in np.arange(10, 100, 10):\n",
    "        sim_i        = data_gam[:j, i]               # Grab the i'th simualtion value\n",
    "        x_bar_i      = np.mean(sim_i)                # Calculate the sample mean\n",
    "        s_i          = np.std(sim_i)                 # Calculate the sample standard deviation\n",
    "        sim_ci[j/10, i, 0] = x_bar_i - 1.96 * s_i / n_sqrt\n",
    "        sim_ci[j/10, i, 1] = x_bar_i + 1.96 * s_i / n_sqrt"
   ]
  },
  {
   "cell_type": "code",
   "execution_count": 69,
   "metadata": {},
   "outputs": [
    {
     "name": "stdout",
     "output_type": "stream",
     "text": [
      "10 sample percent covering Mu: 0.0\n",
      "20 sample percent covering Mu: 0.4016\n",
      "30 sample percent covering Mu: 0.5796\n",
      "40 sample percent covering Mu: 0.6806\n",
      "50 sample percent covering Mu: 0.7634\n",
      "60 sample percent covering Mu: 0.8176\n",
      "70 sample percent covering Mu: 0.8584\n",
      "80 sample percent covering Mu: 0.8894\n",
      "90 sample percent covering Mu: 0.9148\n",
      "100 sample percent covering Mu: 0.9244\n"
     ]
    }
   ],
   "source": [
    "# Calculate which percent of trials include Mu = 0\n",
    "cvrg = np.zeros((10, N))\n",
    "for i in range(10):\n",
    "    for j in range(N):\n",
    "        if(sim_ci[i, j, 0] < 1 and sim_ci[i, j, 1] > 1):\n",
    "            cvrg[i, j] = 1\n",
    "    print(str((i+1)*10) + \" sample percent covering Mu: \" + str(np.mean(cvrg[i])))"
   ]
  },
  {
   "cell_type": "code",
   "execution_count": null,
   "metadata": {
    "collapsed": true
   },
   "outputs": [],
   "source": []
  }
 ],
 "metadata": {
  "kernelspec": {
   "display_name": "Python 2",
   "language": "python",
   "name": "python2"
  },
  "language_info": {
   "codemirror_mode": {
    "name": "ipython",
    "version": 2
   },
   "file_extension": ".py",
   "mimetype": "text/x-python",
   "name": "python",
   "nbconvert_exporter": "python",
   "pygments_lexer": "ipython2",
   "version": "2.7.13"
  }
 },
 "nbformat": 4,
 "nbformat_minor": 2
}
