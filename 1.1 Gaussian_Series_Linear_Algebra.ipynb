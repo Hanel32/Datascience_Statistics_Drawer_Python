{
 "cells": [
  {
   "cell_type": "markdown",
   "metadata": {},
   "source": [
    "Vectors\n",
    "----\n",
    "Abstractly, vectors are objects that can be added together (to form new vectors) and that can be multiplied by scalars (i.e., numbers), also to form new vectors.\n",
    "\n",
    "Concretely (for us), vectors are points in some finite dimensional space. Although you might not think of your data as vectors, they are a good way to represent numeric data.\n",
    "\n",
    "Here's a good article on vectors: https://www.mathsisfun.com/algebra/vectors.html\n",
    "\n",
    "Vector example:\n",
    "----"
   ]
  },
  {
   "cell_type": "code",
   "execution_count": 1,
   "metadata": {},
   "outputs": [],
   "source": [
    "height_weight_age = [70,  # Inches\n",
    "                     170, # Pounds\n",
    "                     40]  # Years\n",
    "\n",
    "grades            = [95,  # exam1\n",
    "                     80,  # exam2\n",
    "                     75,  # exam3\n",
    "                     62]  # exam4"
   ]
  },
  {
   "cell_type": "markdown",
   "metadata": {},
   "source": [
    "Vector arithmetic:\n",
    "----\n",
    "If you check it out, I've added an intuitive example gaussian series $\\frac{N(N+1)}{2}$ in A+B as well as B+A:\n",
    "\n",
    "To explain, imagine counting the numbers from 1 to 100, and adding them all up. The story goes that as a young student, mathematician Johann Gauss was tasked with just that by his teacher. Being in the 1700's, he had no calculator and thus this was a seemingly cumbersome calculation. Gauss realized, however, that in the series, 1 + 2 +...+ N, that if you added the last number of the series with the first (i.e., 1 + 99) and the second number with the second from the last (i.e., 2 + 98), you end up with the value N + 1 every time, which, in this case, is 100.\n",
    "\n",
    "In the N numbers in the series, you may notice that there $\\frac{N}{2}$ pairs of the value N+1 that can be added. If you multiply the sum of the pair by the number of pairs, you're given $\\frac{N(N+1)}{2}$, or in this case, $\\frac{100(101)}{2}$, or 50 pairs of 101.\n",
    "\n",
    "Here's an example of that in action:"
   ]
  },
  {
   "cell_type": "code",
   "execution_count": 20,
   "metadata": {},
   "outputs": [
    {
     "name": "stdout",
     "output_type": "stream",
     "text": [
      "[100  99  98  97  96  95  94  93  92  91  90  89  88  87  86  85  84  83\n",
      "  82  81  80  79  78  77  76  75  74  73  72  71  70  69  68  67  66  65\n",
      "  64  63  62  61  60  59  58  57  56  55  54  53  52  51  50  49  48  47\n",
      "  46  45  44  43  42  41  40  39  38  37  36  35  34  33  32  31  30  29\n",
      "  28  27  26  25  24  23  22  21  20  19  18  17  16  15  14  13  12  11\n",
      "  10   9   8   7   6   5   4   3   2   1]\n",
      "Vector A+B:\n",
      "[101, 101, 101, 101, 101, 101, 101, 101, 101, 101, 101, 101, 101, 101, 101, 101, 101, 101, 101, 101, 101, 101, 101, 101, 101, 101, 101, 101, 101, 101, 101, 101, 101, 101, 101, 101, 101, 101, 101, 101, 101, 101, 101, 101, 101, 101, 101, 101, 101, 101, 101, 101, 101, 101, 101, 101, 101, 101, 101, 101, 101, 101, 101, 101, 101, 101, 101, 101, 101, 101, 101, 101, 101, 101, 101, 101, 101, 101, 101, 101, 101, 101, 101, 101, 101, 101, 101, 101, 101, 101, 101, 101, 101, 101, 101, 101, 101, 101, 101, 101]\n",
      "\n",
      "Vector A-B:\n",
      "[-99, -97, -95, -93, -91, -89, -87, -85, -83, -81, -79, -77, -75, -73, -71, -69, -67, -65, -63, -61, -59, -57, -55, -53, -51, -49, -47, -45, -43, -41, -39, -37, -35, -33, -31, -29, -27, -25, -23, -21, -19, -17, -15, -13, -11, -9, -7, -5, -3, -1, 1, 3, 5, 7, 9, 11, 13, 15, 17, 19, 21, 23, 25, 27, 29, 31, 33, 35, 37, 39, 41, 43, 45, 47, 49, 51, 53, 55, 57, 59, 61, 63, 65, 67, 69, 71, 73, 75, 77, 79, 81, 83, 85, 87, 89, 91, 93, 95, 97, 99]\n",
      "\n",
      "Vector B+A:\n",
      "[101, 101, 101, 101, 101, 101, 101, 101, 101, 101, 101, 101, 101, 101, 101, 101, 101, 101, 101, 101, 101, 101, 101, 101, 101, 101, 101, 101, 101, 101, 101, 101, 101, 101, 101, 101, 101, 101, 101, 101, 101, 101, 101, 101, 101, 101, 101, 101, 101, 101, 101, 101, 101, 101, 101, 101, 101, 101, 101, 101, 101, 101, 101, 101, 101, 101, 101, 101, 101, 101, 101, 101, 101, 101, 101, 101, 101, 101, 101, 101, 101, 101, 101, 101, 101, 101, 101, 101, 101, 101, 101, 101, 101, 101, 101, 101, 101, 101, 101, 101]\n",
      "\n",
      "Vector B-A\n",
      "[99, 97, 95, 93, 91, 89, 87, 85, 83, 81, 79, 77, 75, 73, 71, 69, 67, 65, 63, 61, 59, 57, 55, 53, 51, 49, 47, 45, 43, 41, 39, 37, 35, 33, 31, 29, 27, 25, 23, 21, 19, 17, 15, 13, 11, 9, 7, 5, 3, 1, -1, -3, -5, -7, -9, -11, -13, -15, -17, -19, -21, -23, -25, -27, -29, -31, -33, -35, -37, -39, -41, -43, -45, -47, -49, -51, -53, -55, -57, -59, -61, -63, -65, -67, -69, -71, -73, -75, -77, -79, -81, -83, -85, -87, -89, -91, -93, -95, -97, -99]\n"
     ]
    }
   ],
   "source": [
    "import numpy as np\n",
    "\n",
    "# Some example vectors.\n",
    "a = np.arange(1, 101, 1)\n",
    "b = np.flip(a, axis=0)\n",
    "\n",
    "print(b)\n",
    "\n",
    "\n",
    "# Vector addition\n",
    "def vector_add(v, w):\n",
    "    \"\"\"adds corresponding elements\"\"\"\n",
    "    return [v_i + w_i for v_i, w_i in zip(v, w)]\n",
    "\n",
    "# Vector subtraction\n",
    "def vector_sub(v, w):\n",
    "    \"\"\"subtracts corresponding elements\"\"\"\n",
    "    return [v_i - w_i for v_i, w_i in zip(v, w)]\n",
    "\n",
    "aplusb = vector_add(a, b)\n",
    "bplusa = vector_add(b, a)\n",
    "aminb  = vector_sub(a, b)\n",
    "bmina  = vector_sub(b, a)\n",
    "\n",
    "print(\"Vector A+B:\")\n",
    "print(aplusb)\n",
    "print(\"\\nVector A-B:\")\n",
    "print(aminb)\n",
    "print(\"\\nVector B+A:\")\n",
    "print(bplusa)\n",
    "print(\"\\nVector B-A\")\n",
    "print(bmina)"
   ]
  },
  {
   "cell_type": "markdown",
   "metadata": {},
   "source": [
    "Vector Sum:\n",
    "----\n",
    "Now, the next part is confirming that this works using vector summations:"
   ]
  },
  {
   "cell_type": "code",
   "execution_count": 41,
   "metadata": {},
   "outputs": [
    {
     "name": "stdout",
     "output_type": "stream",
     "text": [
      "Let's create a vector, C, by adding the highest and lowest N/2 numbers in the series:\n",
      "[101 101 101 101 101 101 101 101 101 101 101 101 101 101 101 101 101 101\n",
      " 101 101 101 101 101 101 101 101 101 101 101 101 101 101 101 101 101 101\n",
      " 101 101 101 101 101 101 101 101 101 101 101 101 101 101]\n",
      "\n",
      "How many 101's is that?:\n",
      "50\n",
      "\n",
      "Sum of the vector, C:\n",
      "5050\n",
      "\n",
      "Original A:\n",
      "[  1   2   3   4   5   6   7   8   9  10  11  12  13  14  15  16  17  18\n",
      "  19  20  21  22  23  24  25  26  27  28  29  30  31  32  33  34  35  36\n",
      "  37  38  39  40  41  42  43  44  45  46  47  48  49  50  51  52  53  54\n",
      "  55  56  57  58  59  60  61  62  63  64  65  66  67  68  69  70  71  72\n",
      "  73  74  75  76  77  78  79  80  81  82  83  84  85  86  87  88  89  90\n",
      "  91  92  93  94  95  96  97  98  99 100]\n",
      "\n",
      "Sum of the vector, A (Same as the series proof vector, C):\n",
      "5050\n"
     ]
    }
   ],
   "source": [
    "def vector_sum(vectors):\n",
    "    \"\"\"sums all corresponding elements\"\"\"\n",
    "    result = vectors[0]                     # Start with the first vector\n",
    "    for vector in vectors[1:]:              # then loop over the others\n",
    "        result = vector_add(result, vector) # and add them to the result\n",
    "    return result\n",
    "\n",
    "bot = np.arange(1 , 51, 1)                  # First 50 numbers in the series\n",
    "top = np.flip(np.arange(51,101, 1), axis=0) # Second 50 numbers in the seres, flipped for alignment.\n",
    "\n",
    "print(\"Let's create a vector, C, by adding the highest and lowest N/2 numbers in the series:\")\n",
    "c   = vector_sum((bot, top))\n",
    "tmp = np.array(c)\n",
    "print(tmp)\n",
    "\n",
    "print(\"\\nHow many 101's is that?:\")\n",
    "print(tmp.size)\n",
    "\n",
    "print(\"\\nSum of the vector, C:\")\n",
    "print(sum(tmp))\n",
    "\n",
    "print(\"\\nOriginal A:\")\n",
    "print(a)\n",
    "\n",
    "print(\"\\nSum of the vector, A (Same as the series proof vector, C):\")\n",
    "print(sum(a))"
   ]
  },
  {
   "cell_type": "markdown",
   "metadata": {},
   "source": [
    "For a little extra fun, here's a visualization of A and C:\n",
    "----"
   ]
  },
  {
   "cell_type": "code",
   "execution_count": 43,
   "metadata": {},
   "outputs": [
    {
     "data": {
      "text/plain": [
       "<matplotlib.text.Text at 0x9d75a58>"
      ]
     },
     "execution_count": 43,
     "metadata": {},
     "output_type": "execute_result"
    },
    {
     "data": {
      "image/png": "[encoded data removed]",
      "text/plain": [
       "<matplotlib.figure.Figure at 0x89d7748>"
      ]
     },
     "metadata": {},
     "output_type": "display_data"
    }
   ],
   "source": [
    "import matplotlib.mlab as mlab\n",
    "import matplotlib.pyplot as plt\n",
    "%matplotlib inline\n",
    "\n",
    "x_1 = np.arange(100)\n",
    "x_2 = np.arange(50)\n",
    "\n",
    "plt.plot(x_1, a)\n",
    "plt.title(\"Monotonically Increasing Series from 0 to 100\")"
   ]
  },
  {
   "cell_type": "code",
   "execution_count": 44,
   "metadata": {},
   "outputs": [
    {
     "data": {
      "text/plain": [
       "<matplotlib.text.Text at 0x9f70828>"
      ]
     },
     "execution_count": 44,
     "metadata": {},
     "output_type": "execute_result"
    },
    {
     "data": {
      "image/png": "[encoded data removed]",
      "text/plain": [
       "<matplotlib.figure.Figure at 0x9cfc7b8>"
      ]
     },
     "metadata": {},
     "output_type": "display_data"
    }
   ],
   "source": [
    "plt.plot(x_2, c)\n",
    "plt.title(\"Visualization of C, the vector created:\")"
   ]
  },
  {
   "cell_type": "markdown",
   "metadata": {},
   "source": [
    "Intuition:\n",
    "----\n",
    "If you see, the graph of A looks like a triangle, and C a rectangle. Keep in mind, both A and C have the same amount of volume under the line. Essentially, what we've done is exposed the geometry of the series by realizing we could cut that triange in half, and produce a much more easily derivable sum in the form of a rectangle, or in other words, we've simply reduced this cumbersome addition exercise to a much more compact formula which we've verified holds true."
   ]
  },
  {
   "cell_type": "code",
   "execution_count": null,
   "metadata": {},
   "outputs": [],
   "source": []
  }
 ],
 "metadata": {
  "kernelspec": {
   "display_name": "Python 2",
   "language": "python",
   "name": "python2"
  },
  "language_info": {
   "codemirror_mode": {
    "name": "ipython",
    "version": 2
   },
   "file_extension": ".py",
   "mimetype": "text/x-python",
   "name": "python",
   "nbconvert_exporter": "python",
   "pygments_lexer": "ipython2",
   "version": "2.7.13"
  }
 },
 "nbformat": 4,
 "nbformat_minor": 2
}
