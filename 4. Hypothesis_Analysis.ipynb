{
 "cells": [
  {
   "cell_type": "markdown",
   "metadata": {},
   "source": [
    "@author: Carson Hanel\n",
    "\n",
    "Note: These code snippets are derived from Data Science from Scratch First Principles by Joel Grus.\n",
    "      For right now, I'll be transferring the code from the book, explaining the functions, and creating\n",
    "      an API that can be utilized in further analysis. While some of these functions may be part of \n",
    "      the Python standard library or a package already created, I thought it would be useful to begin\n",
    "      creating my own data science toolbelt for the future, with self written commentary.\n",
    "      \n",
    "Normal approximation to binomial:\n",
    "    Coin flipping trial.\n",
    "    p = 0.5\n",
    "    Each coin flip is a Bernoulli trial;\n",
    "    X is a Binomial(n, p) random variable\n",
    "   \n",
    "   You can approximate it utilizing:"
   ]
  },
  {
   "cell_type": "code",
   "execution_count": 3,
   "metadata": {},
   "outputs": [],
   "source": [
    "import math\n",
    "\n",
    "def normal_approximation_to_binomial(n, p):\n",
    "  mu = p * n\n",
    "  sigma = math.sqrt(p * (1 - p) * n)\n",
    "  return mu, sigma\n"
   ]
  },
  {
   "cell_type": "markdown",
   "metadata": {},
   "source": [
    "Explanation:\n",
    "    Whenever a random variable follows a normal distribution, we can use\n",
    "    normal_cdf to figure out the probability that its realized value lies\n",
    "    either within or outside a certain interval.\n",
    "\n",
    "Noteworthy: The normal CDF is equivalent to the probability that a variable is below a threshold."
   ]
  },
  {
   "cell_type": "code",
   "execution_count": null,
   "metadata": {
    "collapsed": true
   },
   "outputs": [],
   "source": [
    "normal_probability_below = normal_cdf\n",
    "  \n",
    "#It's above the threshold if it's not below the threshold\n",
    "def normal_probability_above(lo, mu=0, sigma=1):\n",
    "  return 1 - normal_cdf(lo, mu, sigma)\n",
    "  \n",
    "#It's between the threshold if it's less than hi, but not less than lo\n",
    "def normal_probability_between(lo, hi, mu=0, sigma=1):\n",
    "  return normal_cdf(hi, mu, sigma) - normal_cdf(lo, mu, sigma)\n",
    "\n",
    "#It's outside if it's not between\n",
    "def normal_probability_outside(lo, hi, mu=0, sigma=1):\n",
    "  return 1 - normal_probability_between(lo, hi, mu, sigma)"
   ]
  },
  {
   "cell_type": "markdown",
   "metadata": {},
   "source": [
    "Furthermore:\n",
    "    We can also do the reverse, finding the intervals at which likelihood cutoffs exist.\n",
    "    For example, \"if we want to find an interval centered at the mean and containing 60%\n",
    "    probability, then we find the cutoffs of the upper and lower 20%\"\n",
    "    \n",
    "    These are the methods we can utilize:"
   ]
  },
  {
   "cell_type": "code",
   "execution_count": null,
   "metadata": {
    "collapsed": true
   },
   "outputs": [],
   "source": [
    "def normal_upper_bound(probability, mu=0, sigma=1):\n",
    "\"\"\"returns the z for which P(Z <= z) = probability \"\"\"\n",
    "  return inverse_normal_cdf(probability, mu, sigma)\n",
    "\n",
    "def normal_lower_bound(probability, mu=0, sigma=1):\n",
    "\"\"\"retuns the z for which P(Z >= z) = probability \"\"\"\n",
    "  return inverse_normal_cdf(1 - probability, mu, sigma)\n",
    "\n",
    "def normal_two_sided_bounds(probability, mu=0, sigma=1):\n",
    "\"\"\"returns the symmetric (about the mean) bounds\n",
    "   that contain the specified probability         \"\"\"\n",
    "  tail_probability = (1 - probability) / 2\n",
    "  upper_bound      = normal_lower_bound(tail_probability, mu, sigma)\n",
    "  lower_bound      = normal_upper_bound(tail_probability, mu, sigma)\n",
    "  return lower_bound, upper_bound"
   ]
  },
  {
   "cell_type": "markdown",
   "metadata": {},
   "source": [
    "In order to run the experiment of flipping an unbiased coin 1000 times:"
   ]
  },
  {
   "cell_type": "code",
   "execution_count": null,
   "metadata": {
    "collapsed": true
   },
   "outputs": [],
   "source": [
    "mu_0, sigma_0 = normal_approximation_to_binomial(1000, 0.5)"
   ]
  },
  {
   "cell_type": "markdown",
   "metadata": {},
   "source": [
    "Next:\n",
    "    We need to make a decision about significance.\n",
    "    How willing are we to accept an error?  \n",
    "    In this, let's choose 2.5% of the time."
   ]
  },
  {
   "cell_type": "code",
   "execution_count": null,
   "metadata": {
    "collapsed": true
   },
   "outputs": [],
   "source": [
    "normal_two_sided_bounds(0.975, mu_0, sigma_0)"
   ]
  },
  {
   "cell_type": "markdown",
   "metadata": {},
   "source": [
    "Continuing:\n",
    "    Assuming the hypothesis is true, there's at most a 2.5% chance we observe a set of 1000\n",
    "    trials outside of the tested confidence interval.\n",
    "    \n",
    "    Further, we're concerned with the probability that we've made a type 2 error, or rather,\n",
    "    we've accepted the hypothesis although it is generally false in nature. To find this, we\n",
    "    calculate the \"power\" of a test, which is the probability of _not_ making a type 2 error.\n",
    "    \n",
    "    Let's check out what happens if p is actually .55 rather than .5"
   ]
  },
  {
   "cell_type": "code",
   "execution_count": null,
   "metadata": {
    "collapsed": true
   },
   "outputs": [],
   "source": [
    "#97.5% bounds based on assumption p is 0.5\n",
    "lo, hi = normal_two_sided_bounds(0.975, mu_0, sigma_0)\n",
    "      \n",
    "#actual mu and sigma based on p = .55\n",
    "mu_1, sigma_1 = normal_approximation_to_binomial(1000, 0.55)\n",
    "      \n",
    "#a type 2 error means we fail to reject the null hypothesis\n",
    "#which will happen when x is still in our original interval\n",
    "type_2_probability = normal_probability_between(lo, hi, mu_1, sigma_1)\n",
    "power = 1 - type_2_probability\n",
    "print(power)"
   ]
  },
  {
   "cell_type": "markdown",
   "metadata": {},
   "source": [
    "Also:\n",
    "    Imagine that the null hypothesis was instead the the coin was not biased\n",
    "    towards heads, or rather p <= .5. \"In that case we want a one-sided test that rejects the\n",
    "    null hypothesis when X is much larger than 50 but not when X is smaller than 50. So a 5%\n",
    "    significance test involves normal_probability_below to find the cutoff below which 95% of\n",
    "    the probability lies\""
   ]
  },
  {
   "cell_type": "code",
   "execution_count": null,
   "metadata": {
    "collapsed": true
   },
   "outputs": [],
   "source": [
    "hi = normal_upper_bound(0.95, mu_0, sigma_0)\n",
    "  \n",
    "type_2_probability = normal_probability_below(hi, mu_1, sigma_1)\n",
    "power = 1 - type_2_probability\n",
    "print(power)"
   ]
  },
  {
   "cell_type": "markdown",
   "metadata": {},
   "source": [
    "Two-sided bias test:\n",
    "    To test if the probability is actually .5"
   ]
  },
  {
   "cell_type": "code",
   "execution_count": null,
   "metadata": {
    "collapsed": true
   },
   "outputs": [],
   "source": [
    "def two_sided_p_value(x, mu=0, sigma=1):\n",
    "  if x>= mu:\n",
    "  #if x is greater than the mean, the tail is what's greater than x\n",
    "    return 2 * normal_probability_above(x, mu, sigma)\n",
    "  else:\n",
    "  #if x is less than the mean, the tail is what's less than x\n",
    "    return 2 * normal_probability_below(x, mu, sigma)"
   ]
  },
  {
   "cell_type": "markdown",
   "metadata": {},
   "source": [
    "If we were to see 530 heads in 1000, we would compute:\n"
   ]
  },
  {
   "cell_type": "code",
   "execution_count": null,
   "metadata": {
    "collapsed": true
   },
   "outputs": [],
   "source": [
    "two_sided_p_value(529.5, mu_0, sigma_0)"
   ]
  },
  {
   "cell_type": "markdown",
   "metadata": {},
   "source": [
    "Tradeskill Note:\n",
    "    Utilizing 529.5 instead of 530.\n",
    "    This is called a \"continuity correction\" which reflects the fact that\n",
    "    normal_probability_between(529.5, 530.5, mu_0, sigma_0) is a better probability\n",
    "    of seeing 530 heads than normal_probability between(530, 531, mu_0, sigma_0) is.\n",
    "    \n",
    "    Nice.\n",
    "    \n",
    "One way to convince yourself that this is a sensible estimate is with a simulation:"
   ]
  },
  {
   "cell_type": "code",
   "execution_count": null,
   "metadata": {
    "collapsed": true
   },
   "outputs": [],
   "source": [
    "extreme_value_count = 0\n",
    "for _ in range(1000000):\n",
    "  num_heads = sum(1 if random.random() < 0.5 else 0\n",
    "                  for _ in range(1000)\n",
    "  if num_heads >= 530 or num_heads <= 470:\n",
    "    extreme_value_count += 1\n",
    "print extreme_value_count / 1000000"
   ]
  },
  {
   "cell_type": "markdown",
   "metadata": {},
   "source": [
    "Since the p-value is greater than our 5% significance, we don't reject the null. If we instead saw 532 heads, the p-value would be:"
   ]
  },
  {
   "cell_type": "code",
   "execution_count": null,
   "metadata": {
    "collapsed": true
   },
   "outputs": [],
   "source": [
    "two_sided_p_value(531.5, mu_0, sigma_0)"
   ]
  },
  {
   "cell_type": "markdown",
   "metadata": {},
   "source": [
    "Which is smaller than the 5% significance, which means we reject the null.\n",
    "Similarly:"
   ]
  },
  {
   "cell_type": "code",
   "execution_count": null,
   "metadata": {
    "collapsed": true
   },
   "outputs": [],
   "source": [
    "  upper_p_value = normal_probability_above\n",
    "  lower_p_value = normal_probability_below\n",
    "  \n",
    "  #For a one-sided test, if we saw 525 heads, we would compute:\n",
    "  upper_p_value(524.5, mu_0, sigma_0)"
   ]
  }
 ],
 "metadata": {
  "kernelspec": {
   "display_name": "Python 2",
   "language": "python",
   "name": "python2"
  },
  "language_info": {
   "codemirror_mode": {
    "name": "ipython",
    "version": 2
   },
   "file_extension": ".py",
   "mimetype": "text/x-python",
   "name": "python",
   "nbconvert_exporter": "python",
   "pygments_lexer": "ipython2",
   "version": "2.7.13"
  }
 },
 "nbformat": 4,
 "nbformat_minor": 2
}
