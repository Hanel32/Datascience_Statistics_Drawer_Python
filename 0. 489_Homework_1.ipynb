{
 "cells": [
  {
   "cell_type": "markdown",
   "metadata": {},
   "source": [
    "@author: Carson Hanel\n",
    "\n",
    "STAT 489: Principles of Data Science and Statistics\n",
    "\n",
    "Professor: Alan Dabney\n",
    "\n",
    "Homework: Initial Python\n",
    "\n",
    "Task 1: Create four Python variables with different data types:\n",
    "----"
   ]
  },
  {
   "cell_type": "code",
   "execution_count": 59,
   "metadata": {
    "collapsed": true
   },
   "outputs": [],
   "source": [
    "import numpy as np\n",
    "import math\n",
    "import random\n",
    "\n",
    "names     = [\"Bob\", \"Jill\", \"George\", \"Anne\"] # String\n",
    "salaries  = [89900,  48000, 128000  ,  56000] # Integer\n",
    "raise_p   = [2.3  ,  1.5  , 3.0     ,  1.2  ] # Float\n",
    "bonus     = [2500 ,  1200 , 5200    ,  1400 ] # Integer\n",
    "retire    = [True ,  False, True    ,  True ] # Boolean\n",
    "salary_p  = [[]   ,  []   , []      ,  []   ] # Will hold lists of projected 5 year salaries\n",
    "\n",
    "name_dict = {\"Bob\"    : 0,\n",
    "             \"Jill\"   : 1,\n",
    "             \"George\" : 2,\n",
    "             \"Anne\"   : 3,\n",
    "             \"Eric\"   : 4,\n",
    "             \"Mandy\"  : 5};"
   ]
  },
  {
   "cell_type": "markdown",
   "metadata": {},
   "source": [
    "Task 2: Create a Python list containing 5 numeric variables:\n",
    "----\n",
    "\n",
    "Note: I know this is extra. I was just having fun. I created a function to generate everyone's 5 year salary outlook."
   ]
  },
  {
   "cell_type": "code",
   "execution_count": 5,
   "metadata": {},
   "outputs": [
    {
     "name": "stdout",
     "output_type": "stream",
     "text": [
      "Bob's five year salary outlook: \n",
      "[ 91967.7, 94082.9571, 96246.8651133, 98460.5430109, 100725.1355,]\n",
      "\n",
      "\n",
      "Jill's five year salary outlook: \n",
      "[ 48720.0, 49450.8, 50192.562, 50945.45043, 51709.6321864,]\n",
      "\n",
      "\n",
      "George's five year salary outlook: \n",
      "[ 131840.0, 135795.2, 139869.056, 144065.12768, 148387.08151,]\n",
      "\n",
      "\n",
      "Anne's five year salary outlook: \n",
      "[ 56672.0, 57352.064, 58040.288768, 58736.7722332, 59441.6135,]\n",
      "\n",
      "\n"
     ]
    }
   ],
   "source": [
    "def calculate_half_decade(salary, raise_p):\n",
    "    salaries    = np.zeros(5)\n",
    "    salaries[0] = salary * ((100 + raise_p)/100)\n",
    "    for i in range(1, 5):\n",
    "        salaries[i] = salaries[i - 1] * ((100 + raise_p)/100)\n",
    "    return salaries\n",
    "\n",
    "def print_salary(salaries):\n",
    "    salary  = \"[\"\n",
    "    for element in salaries:\n",
    "        salary += \" \" + str(element) + \",\"\n",
    "    salary += \"]\"\n",
    "    print(salary)\n",
    "    \n",
    "for i in range(len(salaries)):\n",
    "    salary_p[i] = calculate_half_decade(salaries[i], raise_p[i])\n",
    "\n",
    "for i in range(len(names)):\n",
    "    print(str(names[i]) + \"'s five year salary outlook: \")\n",
    "    print_salary(salary_p[i])\n",
    "    print(\"\\n\")"
   ]
  },
  {
   "cell_type": "markdown",
   "metadata": {},
   "source": [
    "Task 3: Perform an arithmetic operation on a subset of elements in this list:\n",
    "----\n",
    "\n",
    "Note: So, what I'll do now is assume that every other year, everyone gets a bonus!"
   ]
  },
  {
   "cell_type": "code",
   "execution_count": 6,
   "metadata": {},
   "outputs": [
    {
     "name": "stdout",
     "output_type": "stream",
     "text": [
      "Bob's five year salary outlook with added bonuses: \n",
      "[ 91967.7, 96582.9571, 96246.8651133, 100960.543011, 100725.1355,]\n",
      "\n",
      "\n",
      "Jill's five year salary outlook with added bonuses: \n",
      "[ 48720.0, 50650.8, 50192.562, 52145.45043, 51709.6321864,]\n",
      "\n",
      "\n",
      "George's five year salary outlook with added bonuses: \n",
      "[ 131840.0, 140995.2, 139869.056, 149265.12768, 148387.08151,]\n",
      "\n",
      "\n",
      "Anne's five year salary outlook with added bonuses: \n",
      "[ 56672.0, 58752.064, 58040.288768, 60136.7722332, 59441.6135,]\n",
      "\n",
      "\n"
     ]
    }
   ],
   "source": [
    "def insert_raise(salaries, amount):\n",
    "    for i in range(len(salaries)):\n",
    "        if (i-1)%2 == 0:\n",
    "            salaries[i] += amount\n",
    "    return salaries\n",
    "\n",
    "for i in range(4):\n",
    "    salary_p[i] = insert_raise(salary_p[i], bonus[i])\n",
    "\n",
    "for i in range(len(names)):\n",
    "    print(str(names[i]) + \"'s five year salary outlook with added bonuses: \")\n",
    "    print_salary(salary_p[i])\n",
    "    print(\"\\n\")"
   ]
  },
  {
   "cell_type": "markdown",
   "metadata": {},
   "source": [
    "Cool! So now you can see, on \"even\" years (if counting from year of employment 1...) everyone got bonuses!\n",
    "\n",
    "Task 4: Create a Python list containing 3 string values\n",
    "----\n",
    "\n",
    "Task 5: Append 2 more strings to the end of this python list\n",
    "----\n",
    "\n",
    "To address this, I've already got the list of names of people. In order to satisfy these requirements, I'll add two more people.\n",
    "\n",
    "Just for continuity, now that they're there, I'll also calculate their 5-year. Why not?"
   ]
  },
  {
   "cell_type": "code",
   "execution_count": 7,
   "metadata": {},
   "outputs": [
    {
     "name": "stdout",
     "output_type": "stream",
     "text": [
      "We've got some new employees! Please greet: Eric and Mandy!\n",
      "Bob's five year salary outlook with added bonuses (Updated): \n",
      "[ 91967.7, 96582.9571, 96246.8651133, 100960.543011, 100725.1355,]\n",
      "\n",
      "\n",
      "Jill's five year salary outlook with added bonuses (Updated): \n",
      "[ 48720.0, 50650.8, 50192.562, 52145.45043, 51709.6321864,]\n",
      "\n",
      "\n",
      "George's five year salary outlook with added bonuses (Updated): \n",
      "[ 131840.0, 140995.2, 139869.056, 149265.12768, 148387.08151,]\n",
      "\n",
      "\n",
      "Anne's five year salary outlook with added bonuses (Updated): \n",
      "[ 56672.0, 58752.064, 58040.288768, 60136.7722332, 59441.6135,]\n",
      "\n",
      "\n",
      "Eric's five year salary outlook with added bonuses (Updated): \n",
      "[ 15500.0, 15700.0, 15500.0, 15700.0, 15500.0,]\n",
      "\n",
      "\n",
      "Mandy's five year salary outlook with added bonuses (Updated): \n",
      "[ 102410.0, 110218.45, 111834.28025, 120066.822861, 122125.82989,]\n",
      "\n",
      "\n"
     ]
    }
   ],
   "source": [
    "names    += [\"Eric\", \"Mandy\" ] # String\n",
    "salaries += [15500 ,  98000  ] # Integer\n",
    "raise_p  += [1     ,  4.5    ] # Float\n",
    "bonus    += [200   ,  3200   ] # Integer\n",
    "retire   += [False ,  True   ] # Boolean\n",
    "salary_p += [[]    ,  []     ] # Will hold lists of projected 5 year salaries\n",
    "\n",
    "print(\"We've got some new employees! Please greet: \" + \" and \".join(names[4:6]) + \"!\")\n",
    "\n",
    "for i in range(4, 6):\n",
    "    salary_p[i] = calculate_half_decade(salaries[i], raise_p[i])\n",
    "    salary_p[i] = insert_raise(salary_p[i], bonus[i])\n",
    "\n",
    "for i in range(len(names)):\n",
    "    print(str(names[i]) + \"'s five year salary outlook with added bonuses (Updated): \")\n",
    "    print_salary(salary_p[i])\n",
    "    print(\"\\n\")"
   ]
  },
  {
   "cell_type": "markdown",
   "metadata": {},
   "source": [
    "Task 6: Combine your two Python lists into a single two-dimensional list.\n",
    "----\n",
    "\n",
    "Alright, so you decide you want a matrix of just salary outlook data."
   ]
  },
  {
   "cell_type": "code",
   "execution_count": 8,
   "metadata": {},
   "outputs": [
    {
     "name": "stdout",
     "output_type": "stream",
     "text": [
      "[  91967.7          96582.9571       96246.8651133   100960.54301091\n",
      "  100725.13550016]\n",
      "[ 48720.          50650.8         50192.562       52145.45043\n",
      "  51709.63218645]\n",
      "[ 131840.         140995.2        139869.056      149265.12768\n",
      "  148387.0815104]\n",
      "[ 56672.          58752.064       58040.288768    60136.77223322\n",
      "  59441.61350001]\n",
      "[ 15500.  15700.  15500.  15700.  15500.]\n",
      "[ 102410.          110218.45        111834.28025     120066.82286125\n",
      "  122125.82989001]\n"
     ]
    }
   ],
   "source": [
    "outlook_prediction = []\n",
    "for prediction in salary_p:\n",
    "    outlook_prediction.append(prediction)\n",
    "for person_data in outlook_prediction:\n",
    "    print(person_data)"
   ]
  },
  {
   "cell_type": "markdown",
   "metadata": {},
   "source": [
    "Now, to augment this new data, the boss decides he wants to add a yearly five thousand dollar buffer on the top of those employees that are given a retirement by the company in order to represent company contributions to 401k and retirement options.\n",
    "\n",
    "To do this, I'll write a function.\n",
    "Task 7: Use any five Python functions:\n",
    "----\n",
    "    - 1) calculate_half_decade()\n",
    "    - 2) print_salary()\n",
    "    - 3) insert_raise()\n",
    "    - 4) retirement_cost()\n",
    "    - 5) sum()\n",
    "    \n",
    "Task 8: Use any five Python methods:\n",
    "----\n",
    "    - 1) np.zeros()\n",
    "    - 2) variable.append()\n",
    "    - 3) \" \".join(variable)\n",
    "    - 4) random.choice(names)\n",
    "    - 5) random.random()\n",
    "    "
   ]
  },
  {
   "cell_type": "code",
   "execution_count": 9,
   "metadata": {},
   "outputs": [
    {
     "name": "stdout",
     "output_type": "stream",
     "text": [
      "Bob's five year outlook with bonuses and retirement: \n",
      "[ 91967.7, 96582.9571, 96246.8651133, 100960.543011, 100725.1355,]\n",
      "\n",
      "\n",
      "Jill's five year outlook with bonuses and retirement: \n",
      "[ 48720.0, 50650.8, 50192.562, 52145.45043, 51709.6321864,]\n",
      "\n",
      "\n",
      "George's five year outlook with bonuses and retirement: \n",
      "[ 131840.0, 140995.2, 139869.056, 149265.12768, 148387.08151,]\n",
      "\n",
      "\n",
      "Anne's five year outlook with bonuses and retirement: \n",
      "[ 56672.0, 58752.064, 58040.288768, 60136.7722332, 59441.6135,]\n",
      "\n",
      "\n",
      "Eric's five year outlook with bonuses and retirement: \n",
      "[ 15500.0, 15700.0, 15500.0, 15700.0, 15500.0,]\n",
      "\n",
      "\n",
      "Mandy's five year outlook with bonuses and retirement: \n",
      "[ 102410.0, 110218.45, 111834.28025, 120066.822861, 122125.82989,]\n",
      "\n",
      "\n"
     ]
    }
   ],
   "source": [
    "def add_retirement(salaries, status):\n",
    "    for i in range(len(salaries)):\n",
    "        if status[i]:\n",
    "            for years in salaries[i]:\n",
    "                years += 5000\n",
    "    return salaries\n",
    "\n",
    "salary_p = add_retirement(salary_p, retire)\n",
    "\n",
    "for i in range(len(names)):\n",
    "    print(str(names[i]) + \"'s five year outlook with bonuses and retirement: \")\n",
    "    print_salary(salary_p[i])\n",
    "    print(\"\\n\")"
   ]
  },
  {
   "cell_type": "markdown",
   "metadata": {},
   "source": [
    "Just to supply the boss with some analytics, you decide to offer the average yearly cost for each employee, and what percentile greater than their base salary their benefits are."
   ]
  },
  {
   "cell_type": "code",
   "execution_count": 10,
   "metadata": {},
   "outputs": [
    {
     "name": "stdout",
     "output_type": "stream",
     "text": [
      "Average Yearly Cost: \n",
      "[97296.640144872508, 50683.688923289985, 142071.29303808004, 58608.547700246119, 15580.0, 113331.07660025125]\n",
      "\n",
      "Average Employee Bonus: \n",
      "[ 0.08227631  0.05591019  0.10993198  0.04658121  0.00516129  0.15643956]\n"
     ]
    }
   ],
   "source": [
    "def calculate_yearly_cost(salaries):\n",
    "    return [sum(salary) / len(salary) for salary in salaries]\n",
    "\n",
    "def calculate_benefit(salary_init, salaries):\n",
    "    results = np.zeros(len(salary_init))\n",
    "    for i in range(len(salary_init)):\n",
    "        base_pay = salary_init[i] * len(salaries[i])\n",
    "        benefits = 0\n",
    "        for year in salaries[i]:\n",
    "            benefits += (year - salary_init[i])\n",
    "        results[i] = float(benefits / base_pay)\n",
    "        \n",
    "    return results\n",
    "\n",
    "yearly_cost = np.zeros(len(names))\n",
    "benefits    = np.zeros(len(names))\n",
    "\n",
    "yearly_cost = calculate_yearly_cost(salary_p)\n",
    "benefits    = calculate_benefit(salaries, salary_p)\n",
    "\n",
    "print(\"Average Yearly Cost: \")\n",
    "print(yearly_cost)\n",
    "print(\"\\nAverage Employee Bonus: \")\n",
    "print(benefits)\n"
   ]
  },
  {
   "cell_type": "markdown",
   "metadata": {},
   "source": [
    "Now, the metric for \"Average Employee Bonus\" doesn't tell us much.\n",
    "\n",
    "In order to get an accurate gauge of who most benefits on a scale of 0-100, we must apply a feature scaling algorithm."
   ]
  },
  {
   "cell_type": "code",
   "execution_count": 11,
   "metadata": {},
   "outputs": [
    {
     "name": "stdout",
     "output_type": "stream",
     "text": [
      "Scaled Employee Bonus: \n",
      "[  50.97560933   33.54671933   69.2569321    27.37995317    0.          100.        ]\n"
     ]
    }
   ],
   "source": [
    "def mass_feature_scale(data):\n",
    "    high = float(max(data))\n",
    "    low  = float(min(data))\n",
    "    \n",
    "    for i in range(len(data)):\n",
    "        data[i] = float(((data[i] - low) / (high - low)) * 100.)\n",
    "    return data\n",
    "\n",
    "scaled_benefits = mass_feature_scale(benefits)\n",
    "print(\"Scaled Employee Bonus: \")\n",
    "print(scaled_benefits)"
   ]
  },
  {
   "cell_type": "markdown",
   "metadata": {},
   "source": [
    "This still doesn't tell us much, as it is guaranteed that the outcome will contain a 0 and 100 value as it is scaling dependent on the maximum and minimum elements of the set. Really, this would be more useful in large companies trying to construct bucket ranges for their employees to see where they lay on different scaled company-driven percentiles.\n",
    "\n",
    "Finally, the boss decides it's time to give back. \n",
    "\n",
    "In order to do this, he's requested you randomly select someone to recieve a one-time bonus between 2,500 and 5,000 dollars. Rather than do it manually, you decide it'd be a bit of fun to let the random number generator decide.\n",
    "\n",
    "As a final note, your boss adds that he wants their index to be less than 50; he wants to help where it's needed."
   ]
  },
  {
   "cell_type": "code",
   "execution_count": 34,
   "metadata": {},
   "outputs": [
    {
     "name": "stdout",
     "output_type": "stream",
     "text": [
      "And the winner is: Jill!\n",
      "They won: 3561.10 dollars!\n",
      "\n",
      "Jill has a bonus index of          : 33.55\n",
      "Jill has an average yearly cost of : 50683.69\n",
      "Jill has a raise percentile of     : 1.5\n",
      "Jill gets a yearly bonus of        : 1200\n"
     ]
    }
   ],
   "source": [
    "def generate_winner(names, index, threshold):\n",
    "    winner = random.choice(names)\n",
    "    winner_index = index[name_dict[str(winner)]]\n",
    "    while winner_index > threshold:\n",
    "        winner = random.choice(names)\n",
    "        winner_index = index[name_dict[str(winner)]]\n",
    "    prize  = 2500 + random.random() * 2500\n",
    "    return winner, prize\n",
    "\n",
    "winner, prize = generate_winner(names, scaled_benefits, 50.)\n",
    "print(\"And the winner is: \" + str(winner) + \"!\")\n",
    "print(\"They won: %.2f dollars!\\n\" % prize)\n",
    "\n",
    "# Float formatting\n",
    "print(str(winner) + \" has a bonus index of          : %.2f\" % scaled_benefits[name_dict[winner]])\n",
    "print(str(winner) + \" has an average yearly cost of : %.2f\" % yearly_cost[name_dict[winner]])\n",
    "\n",
    "# String casting\n",
    "print(str(winner) + \" has a raise percentile of     : \" + str(raise_p[name_dict[str(winner)]]))\n",
    "print(str(winner) + \" gets a yearly bonus of        : \" + str(bonus[name_dict[str(winner)]]))"
   ]
  },
  {
   "cell_type": "markdown",
   "metadata": {},
   "source": [
    "Task 9: Create a two-dimensional NumPy array and print a subset of its rows and columns\n",
    "----\n",
    "\n",
    "So the boss sees that Jill has won 3561.10 and is feeling extra generous. He'd like to give the remaining 1438.9 to the person with the lowest bonus compensation percentile to try and spread the wealth. The boss requests that you locate that person and bring him their file.\n",
    "\n",
    "Note: The subset that's being printed is the row containing the lowest bonus earner, and all columns within the row being printed."
   ]
  },
  {
   "cell_type": "code",
   "execution_count": 57,
   "metadata": {},
   "outputs": [
    {
     "name": "stdout",
     "output_type": "stream",
     "text": [
      "Employee Name      : Eric\n",
      "Employee Pay       : 15500.00\n",
      "Employee Five-Year : [ 15500.00, 15700.00, 15500.00, 15700.00, 15500.00,]\n",
      "Employee Bonus     : 200.00\n",
      "Employee Raise Pct : 1.00\n",
      "Employee Benefit   : 0.00 / 100\n",
      "Employee Retirement: False\n"
     ]
    }
   ],
   "source": [
    "def find_min_location(percentiles):\n",
    "    min_i = 0\n",
    "    for i in range(len(percentiles)):\n",
    "        if percentiles[min_i] > percentiles[i]:\n",
    "            min_i = i\n",
    "    return min_i\n",
    "\n",
    "def print_user(ID, names, salaries, salary_p, bonus, retire, raise_p, benefits):\n",
    "    five_year  = \"[\"\n",
    "    for year in salary_p[ID]:\n",
    "        five_year += \" %.2f,\" % year\n",
    "    five_year += \"]\"\n",
    "    print(\"Employee Name      : \" + str(names[ID]))\n",
    "    print(\"Employee Pay       : %.2f\" % salaries[ID] )\n",
    "    print(\"Employee Five-Year : \" + five_year)\n",
    "    print(\"Employee Bonus     : %.2f\" % bonus[ID])\n",
    "    print(\"Employee Raise Pct : %.2f\" % raise_p[ID])\n",
    "    print(\"Employee Benefit   : %.2f / 100\" % benefits[ID])\n",
    "    print(\"Employee Retirement: \" + str(retire[ID]))\n",
    "\n",
    "lowest_compensated = find_min_location(scaled_benefits)\n",
    "print_user(lowest_compensated, names, salaries, salary_p, bonus, retire, raise_p, scaled_benefits)\n",
    "    "
   ]
  },
  {
   "cell_type": "markdown",
   "metadata": {},
   "source": [
    "Task 10: Calculate the mean, median, and standard deviation of the two variables in your NumPy array.\n",
    "----\n",
    "\n",
    "Finally, you end the day by printing some basic statistics about your employee dataset:"
   ]
  },
  {
   "cell_type": "code",
   "execution_count": 68,
   "metadata": {},
   "outputs": [
    {
     "name": "stdout",
     "output_type": "stream",
     "text": [
      "Mean of Salaries    : 80475.00\n",
      "Median of Salaries  : 72950.00\n",
      "Standard Deviation  : 31627.15\n",
      "\n",
      "Mean of Bonus       : 2575.00\n",
      "Median of Bonus     : 1950.00\n",
      "Standard Deviation  : 1594.33\n",
      "\n",
      "Mean of Raise Pct   : 2.00\n",
      "Median of Raise Pct : 1.90\n",
      "Standard Deviation  : 0.70\n",
      "\n"
     ]
    }
   ],
   "source": [
    "print(\"Mean of Salaries    : %.2f\" % np.mean(salaries))\n",
    "print(\"Median of Salaries  : %.2f\" % np.median(salaries))\n",
    "print(\"Standard Deviation  : %.2f\\n\" % np.std(salaries))\n",
    "\n",
    "print(\"Mean of Bonus       : %.2f\" % np.mean(bonus))\n",
    "print(\"Median of Bonus     : %.2f\" % np.median(bonus))\n",
    "print(\"Standard Deviation  : %.2f\\n\" % np.std(bonus))\n",
    "\n",
    "print(\"Mean of Raise Pct   : %.2f\" % np.mean(raise_p))\n",
    "print(\"Median of Raise Pct : %.2f\" % np.median(raise_p))\n",
    "print(\"Standard Deviation  : %.2f\\n\" % np.std(raise_p))"
   ]
  },
  {
   "cell_type": "code",
   "execution_count": null,
   "metadata": {
    "collapsed": true
   },
   "outputs": [],
   "source": []
  }
 ],
 "metadata": {
  "kernelspec": {
   "display_name": "Python 2",
   "language": "python",
   "name": "python2"
  },
  "language_info": {
   "codemirror_mode": {
    "name": "ipython",
    "version": 2
   },
   "file_extension": ".py",
   "mimetype": "text/x-python",
   "name": "python",
   "nbconvert_exporter": "python",
   "pygments_lexer": "ipython2",
   "version": "2.7.13"
  }
 },
 "nbformat": 4,
 "nbformat_minor": 2
}
