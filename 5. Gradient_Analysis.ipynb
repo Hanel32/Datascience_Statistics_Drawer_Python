{
 "cells": [
  {
   "cell_type": "code",
   "execution_count": 18,
   "metadata": {
    "collapsed": true
   },
   "outputs": [],
   "source": [
    "\"\"\"\n",
    "Before beginning, I'll create a dummy variable for analysis.\n",
    "\n",
    "Currently, there's no dummy variable.\n",
    "I'd really enjoy being able to ctrl+enter on all Jupyter notebooks\n",
    "paired with a solid set of example data to show off the methods.\n",
    "\"\"\"\n",
    "from numpy     import *\n",
    "from functools import partial\n",
    "import math\n",
    "\n",
    "# The following commands are from Linear Algebra\n",
    "def vector_subtract (v, w):\n",
    "    return [v_i - w_i for v_i, w_i in zip(v,w)]\n",
    "\n",
    "def dot(v, w):\n",
    "    return sum(v_i * w_i for v_i, w_i in zip(v,w))\n",
    "\n",
    "def scalar_multiply(c, v):\n",
    "    return [c * v_i for v_i in v]\n",
    "\n",
    "def sum_of_squares(v):\n",
    "    return dot(v, v)\n",
    "\n",
    "def squared_distance(v, w):\n",
    "    return sum_of_squares(vector_subtract(v, w))\n",
    "\n",
    "def distance(v, w):\n",
    "    return math.sqrt(squared_distance(v, w))\n",
    "# This is taken from a separate learning library"
   ]
  },
  {
   "cell_type": "code",
   "execution_count": 2,
   "metadata": {
    "collapsed": true
   },
   "outputs": [],
   "source": [
    "\"\"\"\n",
    "Suppose we have some function f that takes as input a vector\n",
    "of real numbers and outputs a single real number. One simple\n",
    "such function is the sum of squares:\n",
    "\"\"\"\n",
    "def sum_of_squares(v):\n",
    "    return sum(v_i ** 2 for v_i in v)"
   ]
  },
  {
   "cell_type": "code",
   "execution_count": 4,
   "metadata": {},
   "outputs": [],
   "source": [
    "\"\"\"\n",
    "If f is a function of one variable, its derivative at point x measures\n",
    "how f(x) changes when we make a very small change to x. It is defined as\n",
    "the limit of the difference quotients.\n",
    "\n",
    "The idea is that estimating a derivative is much more computationally \n",
    "mindful and gets us to approximately similar outcomes given the data\n",
    "is well structured.\n",
    "\"\"\"\n",
    "def difference_quotient(f, x, h):\n",
    "    return (f(x + h) - f(x)) / h"
   ]
  },
  {
   "cell_type": "code",
   "execution_count": 10,
   "metadata": {},
   "outputs": [
    {
     "data": {
      "image/png": "[encoded data removed]",
      "text/plain": [
       "<matplotlib.figure.Figure at 0x893ba90>"
      ]
     },
     "metadata": {},
     "output_type": "display_data"
    }
   ],
   "source": [
    "\"\"\"\n",
    "What if you couldn't (or didn't want to) find the gradient? Although\n",
    "we can't take limit in Python, we can estimate derivatives by \n",
    "evaluating the difference quotient for a very small epsilon.\n",
    "\n",
    "Here is an example:\n",
    "\"\"\"\n",
    "def square(x):\n",
    "    return x*x\n",
    "\n",
    "def derivative(x):\n",
    "    return 2*x\n",
    "\n",
    "derivative_estimate = partial(difference_quotient, square, h=0.00001)\n",
    "\n",
    "# plot to show that they're basically the same\n",
    "import matplotlib.pyplot as plt\n",
    "x = range(-10, 10)\n",
    "plt.title(\"Actual Derivatives vs. Estimates\")\n",
    "plt.plot(x, map(derivative, x), 'rx', label='Actual')\n",
    "plt.plot(x, map(derivative_estimate, x), 'b+', label='Estimate')\n",
    "plt.legend(loc=9)\n",
    "plt.show()\n",
    "\n",
    "# As you can see, the fit lines are actually nearly identical."
   ]
  },
  {
   "cell_type": "code",
   "execution_count": 16,
   "metadata": {},
   "outputs": [],
   "source": [
    "\"\"\"\n",
    "When f is a function of many variables, it has multiple partial derivatives,\n",
    "each indicating how f changes when we make small changes in just one of the\n",
    "input variables.\n",
    "\n",
    "We calculate its i'th partal derivative by treating it as a function of\n",
    "just its i'th variable, holding all other variables fixed:\n",
    "\"\"\"\n",
    "def partial_difference_quotient(f, v, i, h):\n",
    "    w = [v_j + (h if j == i else 0)\n",
    "         for j, v_j in enumerate(v)]\n",
    "    return (f(w) - f(v)) / h\n",
    "\n",
    "def estimate_gradient(f, v, h=0.00001):\n",
    "    return [partial_difference_quotient(f, v, i, h)\n",
    "            for i, _ in enumerate(v)]\n",
    "\n",
    "# Note, this method has a drawback: O(2n) rather than O(n) or O(1)"
   ]
  },
  {
   "cell_type": "code",
   "execution_count": 26,
   "metadata": {},
   "outputs": [
    {
     "name": "stdout",
     "output_type": "stream",
     "text": [
      "[-3.5372437838531188e-06, -1.7686218919265594e-06, -2.9477031532109354e-06]\n"
     ]
    }
   ],
   "source": [
    "\"\"\"\n",
    "Sometimes, we want to find the local minima of a gradient in a 3D space.\n",
    "In order to do that, we can compute the sum of squares of the vector,\n",
    "and then take a negative gradient step until we converge on the tolerance\n",
    "area that we've specified.\n",
    "\"\"\"\n",
    "def step(v, direction, step_size):\n",
    "    return [v_i + step_size * direction_i\n",
    "            for v_i, direction_i in zip(v, direction)]\n",
    "\n",
    "def sum_of_squares_gradient(v):\n",
    "    return [2 * v_i for v_i in v]\n",
    "\n",
    "# Pick a random starting point\n",
    "v = [random.randint(-10, 10) for i in range(3)]\n",
    "\n",
    "tolerance = 0.0000001\n",
    "\n",
    "while True:\n",
    "    gradient = sum_of_squares_gradient(v)\n",
    "    next_v   = step(v, gradient, -0.01)\n",
    "    if distance(next_v, v) < tolerance:\n",
    "        break\n",
    "    v = next_v\n",
    "print(v)"
   ]
  },
  {
   "cell_type": "code",
   "execution_count": 27,
   "metadata": {},
   "outputs": [
    {
     "ename": "IndentationError",
     "evalue": "expected an indented block (<ipython-input-27-dabed13c8ccb>, line 15)",
     "output_type": "error",
     "traceback": [
      "\u001b[1;36m  File \u001b[1;32m\"<ipython-input-27-dabed13c8ccb>\"\u001b[1;36m, line \u001b[1;32m15\u001b[0m\n\u001b[1;33m    \u001b[0m\n\u001b[1;37m    ^\u001b[0m\n\u001b[1;31mIndentationError\u001b[0m\u001b[1;31m:\u001b[0m expected an indented block\n"
     ]
    }
   ],
   "source": [
    "\"\"\"\n",
    "In order to put all of this together, we can define the function\n",
    "minimize_batch, which is the empirical way of calculating gradient\n",
    "descent. Unfortunately, batch processing is quite slow. Luckily, \n",
    "in the next dialogue box, we'll be going over Stochastic Gradient Descent\n",
    "which is a randomized, more computationally efficient form of descension.\n",
    "\n",
    "target_fn   is the function we'd like to minimize     \n",
    "            = can be square, whatever function\n",
    "\n",
    "gradient_fn is the calculated gradient of the function \n",
    "            = sum_of_squares_gradient(v)\n",
    "            \n",
    "theta_0     is the (user) given starting value         \n",
    "            = [random.randint(-10, 10) for i in range(3)]\n",
    "\n",
    "The description of the function is:\n",
    "\"Use gradient descent to find theta that minimizes target function\"\n",
    "\"\"\"\n",
    "def minimize_batch(target_fn, gradient_fn, theta_0, tolerance=0.000001):\n",
    "    step_sizes = [100, 10, 1, 0.1, 0.01, 0.001, 0.0001, 0.00001]\n",
    "    \n",
    "    theta     = theta_0\n",
    "    target_fn = safe(target_fn)\n",
    "    value     = target_fn(theta)\n",
    "    \n",
    "    while True:\n",
    "        gradient    = gradient_fn(theta)\n",
    "        next_thetas = [step(theta, gradient, -step_size)\n",
    "                       for step_size in step_sizes]\n",
    "        \n",
    "        # Choose the one that minimizes the error function\n",
    "        next_theta = min(next_thetas, key=target_fn)\n",
    "        next_value = target_fn(next_theta)\n",
    "        \n",
    "        # Stop if we're converging\n",
    "        if abs(value - next_value) < tolerance:\n",
    "            return theta\n",
    "        else:\n",
    "            theta, value = next_theta, next_value\n",
    "                     "
   ]
  },
  {
   "cell_type": "code",
   "execution_count": null,
   "metadata": {
    "collapsed": true
   },
   "outputs": [],
   "source": [
    "\"\"\"\n",
    "Sometimes, we need to maximize this batch descent, or rather, we need\n",
    "to ascend the gradient rather than descend. We can do this by simply\n",
    "negating the functions we've written\n",
    "\"\"\"\n",
    "def negate(f):\n",
    "    return lambda *args, **kwargs: -f(*args, **kwargs)\n",
    "\n",
    "def negate_all(f):\n",
    "    return lambda *args, *kwargs: [-y for y in f(*args, **kwargs)\n",
    "                                   \n",
    "def maximize_batch(target_fn, gradient_fn, theta_0, tolerance=0.000001):\n",
    "    return minimize_batch(negate(target_fn),\n",
    "                          negate_all(gradient_fn),\n",
    "                          theta_0,\n",
    "                          tolerance)"
   ]
  },
  {
   "cell_type": "code",
   "execution_count": 29,
   "metadata": {
    "collapsed": true
   },
   "outputs": [],
   "source": [
    "\"\"\"\n",
    "Stochastic Gradient Descent computes the gradient (and takes a step) \n",
    "utilizing only one variable at a time. This process iterates and descends\n",
    "in random order on the entire data set until the total change in the dataset\n",
    "is less than the given tolerance.\n",
    "\n",
    "First, we'll set up our data to iterate in random order:\n",
    "\"\"\"\n",
    "def in_random_order(data):\n",
    "    indexes = [i for i, _ in enumerate(data)]\n",
    "    random.shuffle(indexes)\n",
    "    for i in indexes:\n",
    "        yield data[i]\n",
    "        \n",
    "# The following functions were created in the Linear Algebra section\n",
    "\n",
    "# End of Linear Algebra functions\n",
    "        \n",
    "# Then, we'll want to take a gradient step for every data point.\n",
    "def minimize_stochastic(target_fn, gradient_fn, x, y, theta_0, alpha_0=0.01):\n",
    "    data                           = zip(x, y)\n",
    "    theta                          = theta_0\n",
    "    alpha                          = alpha_0\n",
    "    min_theta, min_value           = None, float(\"inf\")\n",
    "    iterations_with_no_improvement = 0\n",
    "    \n",
    "    while iterations_with_no_improvement < 100:\n",
    "        value = sum( target_fn(x_i, y_i, theta) for x_i, y_i in data)\n",
    "        \n",
    "        if value < min_value:\n",
    "            # We've found a new minimum; remember it,\n",
    "            # and continue on to the subsequent step size.\n",
    "            min_theta, min_value = theta, value\n",
    "            iterations_with_no_improvement = 0\n",
    "            alpha = alpha_0\n",
    "        else:\n",
    "            # No new minimum found\n",
    "            iterations_with_no_improvement += 1\n",
    "            alpha *= 0.9\n",
    "        \n",
    "        # Gradient step\n",
    "        for x_i, y_i in in_random_order(data):\n",
    "            gradient_i = gradient_fn(x_i, y_i, theta)\n",
    "            theta      = vector_subtract(theta, \n",
    "                                         scalar_multiply(alpha, gradient_i))\n",
    "        return min_theta\n",
    "    \n",
    "# As an added bonus, here's the ascension on the gradient:\n",
    "def maximize_stochastic(target_fn, gradient_fn, x, y, theta_0, alpha_0=0.01):\n",
    "    return minimize_stochastic(negate(target_fn),\n",
    "                               negate_all(gradient_fn),\n",
    "                               x, y, theta_0, alpha_0)"
   ]
  },
  {
   "cell_type": "code",
   "execution_count": null,
   "metadata": {
    "collapsed": true
   },
   "outputs": [],
   "source": []
  }
 ],
 "metadata": {
  "kernelspec": {
   "display_name": "Python 2",
   "language": "python",
   "name": "python2"
  },
  "language_info": {
   "codemirror_mode": {
    "name": "ipython",
    "version": 2
   },
   "file_extension": ".py",
   "mimetype": "text/x-python",
   "name": "python",
   "nbconvert_exporter": "python",
   "pygments_lexer": "ipython2",
   "version": "2.7.13"
  }
 },
 "nbformat": 4,
 "nbformat_minor": 2
}
